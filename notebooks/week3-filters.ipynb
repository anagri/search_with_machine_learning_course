{
 "cells": [
  {
   "cell_type": "code",
   "execution_count": 2,
   "id": "b4455ebc",
   "metadata": {},
   "outputs": [],
   "source": [
    "import fasttext"
   ]
  },
  {
   "cell_type": "code",
   "execution_count": 3,
   "id": "0606b1e7",
   "metadata": {},
   "outputs": [
    {
     "name": "stderr",
     "output_type": "stream",
     "text": [
      "Warning : `load_model` does not return WordVectorModel or SupervisedModel any more, but a `FastText` object which is very similar.\n"
     ]
    }
   ],
   "source": [
    "model_1k = fasttext.load_model('/workspace/search_with_machine_learning_course/week3/query_classifier_1k.bin')"
   ]
  },
  {
   "cell_type": "code",
   "execution_count": 6,
   "id": "e870b61e",
   "metadata": {},
   "outputs": [
    {
     "data": {
      "text/plain": [
       "(('__label__pcmcat218000050003',\n",
       "  '__label__pcmcat209000050007',\n",
       "  '__label__pcmcat218000050000'),\n",
       " array([0.44220558, 0.43358949, 0.03764988]))"
      ]
     },
     "execution_count": 6,
     "metadata": {},
     "output_type": "execute_result"
    }
   ],
   "source": [
    "model_1k.predict('ipad 5', k=3)"
   ]
  },
  {
   "cell_type": "code",
   "execution_count": 8,
   "id": "1c4f1e31",
   "metadata": {},
   "outputs": [
    {
     "data": {
      "text/plain": [
       "(('__label__cat02015',\n",
       "  '__label__pcmcat171900050028',\n",
       "  '__label__pcmcat200900050008'),\n",
       " array([0.13736513, 0.05753118, 0.05580526]))"
      ]
     },
     "execution_count": 8,
     "metadata": {},
     "output_type": "execute_result"
    }
   ],
   "source": [
    "model_1k.predict('pyaaz', k=3)"
   ]
  },
  {
   "cell_type": "code",
   "execution_count": 9,
   "id": "8cd9d077",
   "metadata": {},
   "outputs": [
    {
     "data": {
      "text/plain": [
       "(('__label__pcmcat209000050007',\n",
       "  '__label__pcmcat209000050008',\n",
       "  '__label__pcmcat218000050003'),\n",
       " array([0.69040233, 0.12954742, 0.02360768]))"
      ]
     },
     "execution_count": 9,
     "metadata": {},
     "output_type": "execute_result"
    }
   ],
   "source": [
    "model_1k.predict('ipad', k=3)"
   ]
  },
  {
   "cell_type": "markdown",
   "id": "39bffdc1",
   "metadata": {},
   "source": [
    "# 10k min_queries model"
   ]
  },
  {
   "cell_type": "code",
   "execution_count": 4,
   "id": "0ca319a0",
   "metadata": {},
   "outputs": [
    {
     "name": "stderr",
     "output_type": "stream",
     "text": [
      "Warning : `load_model` does not return WordVectorModel or SupervisedModel any more, but a `FastText` object which is very similar.\n"
     ]
    }
   ],
   "source": [
    "model_10k = fasttext.load_model('/workspace/search_with_machine_learning_course/week3/query_classifier_10k.bin')"
   ]
  },
  {
   "cell_type": "code",
   "execution_count": 12,
   "id": "6eb6cf9a",
   "metadata": {},
   "outputs": [
    {
     "data": {
      "text/plain": [
       "(('__label__pcmcat217900050000',\n",
       "  '__label__pcmcat209000050007',\n",
       "  '__label__abcat0201011'),\n",
       " array([0.60524142, 0.19092394, 0.09940686]))"
      ]
     },
     "execution_count": 12,
     "metadata": {},
     "output_type": "execute_result"
    }
   ],
   "source": [
    "model_10k.predict('ipad 5', k=3)"
   ]
  },
  {
   "cell_type": "code",
   "execution_count": 13,
   "id": "7e785137",
   "metadata": {},
   "outputs": [
    {
     "data": {
      "text/plain": [
       "(('__label__pcmcat209000050007',\n",
       "  '__label__pcmcat209000050008',\n",
       "  '__label__pcmcat217900050000'),\n",
       " array([0.63250387, 0.16552548, 0.09696095]))"
      ]
     },
     "execution_count": 13,
     "metadata": {},
     "output_type": "execute_result"
    }
   ],
   "source": [
    "model_10k.predict('ipad', k=3)"
   ]
  },
  {
   "cell_type": "code",
   "execution_count": 14,
   "id": "458c9e12",
   "metadata": {},
   "outputs": [
    {
     "data": {
      "text/plain": [
       "(('__label__cat02015', '__label__cat00000', '__label__cat02001'),\n",
       " array([0.15642525, 0.09264985, 0.09007225]))"
      ]
     },
     "execution_count": 14,
     "metadata": {},
     "output_type": "execute_result"
    }
   ],
   "source": [
    "model_10k.predict('pyaaz', k=3)"
   ]
  },
  {
   "cell_type": "code",
   "execution_count": null,
   "id": "2acce2ab",
   "metadata": {},
   "outputs": [],
   "source": []
  },
  {
   "cell_type": "code",
   "execution_count": null,
   "id": "2c394c08",
   "metadata": {},
   "outputs": [],
   "source": []
  },
  {
   "cell_type": "code",
   "execution_count": 7,
   "id": "bca6935b",
   "metadata": {},
   "outputs": [],
   "source": [
    "import pandas as pd\n",
    "import xml.etree.ElementTree as ET\n",
    "\n"
   ]
  },
  {
   "cell_type": "code",
   "execution_count": 9,
   "id": "45324427",
   "metadata": {},
   "outputs": [],
   "source": [
    "categories_file_name = r'/workspace/datasets/product_data/categories/categories_0001_abcat0010000_to_pcmcat99300050000.xml'\n",
    "root_category_id = 'cat00000'"
   ]
  },
  {
   "cell_type": "code",
   "execution_count": 46,
   "id": "7340d2bd",
   "metadata": {},
   "outputs": [],
   "source": [
    "tree = ET.parse(categories_file_name)\n",
    "root = tree.getroot()\n",
    "\n",
    "# Parse the category XML file to map each category id to its parent category id in a dataframe.\n",
    "categories = []\n",
    "parents = []\n",
    "crumbs = []\n",
    "for child in root:\n",
    "    id = child.find('id').text\n",
    "    cat_path = child.find('path')\n",
    "    cat_path_ids = [cat.find('id').text for cat in cat_path]\n",
    "    leaf_id = cat_path_ids[-1]\n",
    "    if leaf_id != root_category_id:\n",
    "        categories.append(leaf_id)\n",
    "        parents.append(cat_path_ids[-2])\n",
    "    paths = []\n",
    "    for cat in cat_path:\n",
    "        paths.append(cat.find('name').text)\n",
    "    crumbs.append(\" > \".join(paths))\n",
    "\n",
    "categories.append(root_category_id)\n",
    "parents.append(root_category_id)\n",
    "crumbs.append('Best Buy')\n",
    "\n",
    "parents_df = pd.DataFrame(list(zip(categories, parents, crumbs)), columns =['category', 'parent', 'crumbs'])"
   ]
  },
  {
   "cell_type": "code",
   "execution_count": 47,
   "id": "3712f3d8",
   "metadata": {},
   "outputs": [
    {
     "data": {
      "text/html": [
       "<div>\n",
       "<style scoped>\n",
       "    .dataframe tbody tr th:only-of-type {\n",
       "        vertical-align: middle;\n",
       "    }\n",
       "\n",
       "    .dataframe tbody tr th {\n",
       "        vertical-align: top;\n",
       "    }\n",
       "\n",
       "    .dataframe thead th {\n",
       "        text-align: right;\n",
       "    }\n",
       "</style>\n",
       "<table border=\"1\" class=\"dataframe\">\n",
       "  <thead>\n",
       "    <tr style=\"text-align: right;\">\n",
       "      <th></th>\n",
       "      <th>category</th>\n",
       "      <th>parent</th>\n",
       "      <th>crumbs</th>\n",
       "    </tr>\n",
       "  </thead>\n",
       "  <tbody>\n",
       "    <tr>\n",
       "      <th>0</th>\n",
       "      <td>abcat0010000</td>\n",
       "      <td>cat00000</td>\n",
       "      <td>Best Buy &gt; Gift Center</td>\n",
       "    </tr>\n",
       "    <tr>\n",
       "      <th>1</th>\n",
       "      <td>abcat0011000</td>\n",
       "      <td>abcat0010000</td>\n",
       "      <td>Best Buy &gt; Gift Center &gt; Her</td>\n",
       "    </tr>\n",
       "    <tr>\n",
       "      <th>2</th>\n",
       "      <td>abcat0011001</td>\n",
       "      <td>abcat0011000</td>\n",
       "      <td>Best Buy &gt; Gift Center &gt; Her &gt; Leisure Gifts</td>\n",
       "    </tr>\n",
       "    <tr>\n",
       "      <th>3</th>\n",
       "      <td>abcat0011002</td>\n",
       "      <td>abcat0011000</td>\n",
       "      <td>Best Buy &gt; Gift Center &gt; Her &gt; Kitchen Essentials</td>\n",
       "    </tr>\n",
       "    <tr>\n",
       "      <th>4</th>\n",
       "      <td>abcat0011003</td>\n",
       "      <td>abcat0011000</td>\n",
       "      <td>Best Buy &gt; Gift Center &gt; Her &gt; Electronics</td>\n",
       "    </tr>\n",
       "    <tr>\n",
       "      <th>...</th>\n",
       "      <td>...</td>\n",
       "      <td>...</td>\n",
       "      <td>...</td>\n",
       "    </tr>\n",
       "    <tr>\n",
       "      <th>4635</th>\n",
       "      <td>pcmcat97200050015</td>\n",
       "      <td>cat15063</td>\n",
       "      <td>Best Buy &gt; Name Brands &gt; Sony &gt; |Computer &amp; Ph...</td>\n",
       "    </tr>\n",
       "    <tr>\n",
       "      <th>4636</th>\n",
       "      <td>pcmcat99000050001</td>\n",
       "      <td>pcmcat50000050006</td>\n",
       "      <td>Best Buy &gt; Name Brands &gt; Sony &gt; Sony DSLR Camera</td>\n",
       "    </tr>\n",
       "    <tr>\n",
       "      <th>4637</th>\n",
       "      <td>pcmcat99000050002</td>\n",
       "      <td>pcmcat99000050001</td>\n",
       "      <td>Best Buy &gt; Name Brands &gt; Dynex &gt; Networking</td>\n",
       "    </tr>\n",
       "    <tr>\n",
       "      <th>4638</th>\n",
       "      <td>pcmcat99300050000</td>\n",
       "      <td>cat15063</td>\n",
       "      <td>Best Buy &gt; Name Brands &gt; Dynex &gt; Networking &gt; ...</td>\n",
       "    </tr>\n",
       "    <tr>\n",
       "      <th>4639</th>\n",
       "      <td>cat00000</td>\n",
       "      <td>cat00000</td>\n",
       "      <td>Best Buy &gt; Name Brands &gt; Sony &gt; Sony Digital S...</td>\n",
       "    </tr>\n",
       "  </tbody>\n",
       "</table>\n",
       "<p>4640 rows × 3 columns</p>\n",
       "</div>"
      ],
      "text/plain": [
       "               category             parent  \\\n",
       "0          abcat0010000           cat00000   \n",
       "1          abcat0011000       abcat0010000   \n",
       "2          abcat0011001       abcat0011000   \n",
       "3          abcat0011002       abcat0011000   \n",
       "4          abcat0011003       abcat0011000   \n",
       "...                 ...                ...   \n",
       "4635  pcmcat97200050015           cat15063   \n",
       "4636  pcmcat99000050001  pcmcat50000050006   \n",
       "4637  pcmcat99000050002  pcmcat99000050001   \n",
       "4638  pcmcat99300050000           cat15063   \n",
       "4639           cat00000           cat00000   \n",
       "\n",
       "                                                 crumbs  \n",
       "0                                Best Buy > Gift Center  \n",
       "1                          Best Buy > Gift Center > Her  \n",
       "2          Best Buy > Gift Center > Her > Leisure Gifts  \n",
       "3     Best Buy > Gift Center > Her > Kitchen Essentials  \n",
       "4            Best Buy > Gift Center > Her > Electronics  \n",
       "...                                                 ...  \n",
       "4635  Best Buy > Name Brands > Sony > |Computer & Ph...  \n",
       "4636   Best Buy > Name Brands > Sony > Sony DSLR Camera  \n",
       "4637        Best Buy > Name Brands > Dynex > Networking  \n",
       "4638  Best Buy > Name Brands > Dynex > Networking > ...  \n",
       "4639  Best Buy > Name Brands > Sony > Sony Digital S...  \n",
       "\n",
       "[4640 rows x 3 columns]"
      ]
     },
     "execution_count": 47,
     "metadata": {},
     "output_type": "execute_result"
    }
   ],
   "source": [
    "parents_df"
   ]
  },
  {
   "cell_type": "code",
   "execution_count": 53,
   "id": "1df9cb71",
   "metadata": {},
   "outputs": [],
   "source": [
    "cats = parents_df.set_index('category')"
   ]
  },
  {
   "cell_type": "code",
   "execution_count": 54,
   "id": "9c2a312e",
   "metadata": {},
   "outputs": [
    {
     "data": {
      "text/html": [
       "<div>\n",
       "<style scoped>\n",
       "    .dataframe tbody tr th:only-of-type {\n",
       "        vertical-align: middle;\n",
       "    }\n",
       "\n",
       "    .dataframe tbody tr th {\n",
       "        vertical-align: top;\n",
       "    }\n",
       "\n",
       "    .dataframe thead th {\n",
       "        text-align: right;\n",
       "    }\n",
       "</style>\n",
       "<table border=\"1\" class=\"dataframe\">\n",
       "  <thead>\n",
       "    <tr style=\"text-align: right;\">\n",
       "      <th></th>\n",
       "      <th>parent</th>\n",
       "      <th>crumbs</th>\n",
       "    </tr>\n",
       "    <tr>\n",
       "      <th>category</th>\n",
       "      <th></th>\n",
       "      <th></th>\n",
       "    </tr>\n",
       "  </thead>\n",
       "  <tbody>\n",
       "    <tr>\n",
       "      <th>abcat0010000</th>\n",
       "      <td>cat00000</td>\n",
       "      <td>Best Buy &gt; Gift Center</td>\n",
       "    </tr>\n",
       "    <tr>\n",
       "      <th>abcat0011000</th>\n",
       "      <td>abcat0010000</td>\n",
       "      <td>Best Buy &gt; Gift Center &gt; Her</td>\n",
       "    </tr>\n",
       "    <tr>\n",
       "      <th>abcat0011001</th>\n",
       "      <td>abcat0011000</td>\n",
       "      <td>Best Buy &gt; Gift Center &gt; Her &gt; Leisure Gifts</td>\n",
       "    </tr>\n",
       "    <tr>\n",
       "      <th>abcat0011002</th>\n",
       "      <td>abcat0011000</td>\n",
       "      <td>Best Buy &gt; Gift Center &gt; Her &gt; Kitchen Essentials</td>\n",
       "    </tr>\n",
       "    <tr>\n",
       "      <th>abcat0011003</th>\n",
       "      <td>abcat0011000</td>\n",
       "      <td>Best Buy &gt; Gift Center &gt; Her &gt; Electronics</td>\n",
       "    </tr>\n",
       "    <tr>\n",
       "      <th>...</th>\n",
       "      <td>...</td>\n",
       "      <td>...</td>\n",
       "    </tr>\n",
       "    <tr>\n",
       "      <th>pcmcat97200050015</th>\n",
       "      <td>cat15063</td>\n",
       "      <td>Best Buy &gt; Name Brands &gt; Sony &gt; |Computer &amp; Ph...</td>\n",
       "    </tr>\n",
       "    <tr>\n",
       "      <th>pcmcat99000050001</th>\n",
       "      <td>pcmcat50000050006</td>\n",
       "      <td>Best Buy &gt; Name Brands &gt; Sony &gt; Sony DSLR Camera</td>\n",
       "    </tr>\n",
       "    <tr>\n",
       "      <th>pcmcat99000050002</th>\n",
       "      <td>pcmcat99000050001</td>\n",
       "      <td>Best Buy &gt; Name Brands &gt; Dynex &gt; Networking</td>\n",
       "    </tr>\n",
       "    <tr>\n",
       "      <th>pcmcat99300050000</th>\n",
       "      <td>cat15063</td>\n",
       "      <td>Best Buy &gt; Name Brands &gt; Dynex &gt; Networking &gt; ...</td>\n",
       "    </tr>\n",
       "    <tr>\n",
       "      <th>cat00000</th>\n",
       "      <td>cat00000</td>\n",
       "      <td>Best Buy &gt; Name Brands &gt; Sony &gt; Sony Digital S...</td>\n",
       "    </tr>\n",
       "  </tbody>\n",
       "</table>\n",
       "<p>4640 rows × 2 columns</p>\n",
       "</div>"
      ],
      "text/plain": [
       "                              parent  \\\n",
       "category                               \n",
       "abcat0010000                cat00000   \n",
       "abcat0011000            abcat0010000   \n",
       "abcat0011001            abcat0011000   \n",
       "abcat0011002            abcat0011000   \n",
       "abcat0011003            abcat0011000   \n",
       "...                              ...   \n",
       "pcmcat97200050015           cat15063   \n",
       "pcmcat99000050001  pcmcat50000050006   \n",
       "pcmcat99000050002  pcmcat99000050001   \n",
       "pcmcat99300050000           cat15063   \n",
       "cat00000                    cat00000   \n",
       "\n",
       "                                                              crumbs  \n",
       "category                                                              \n",
       "abcat0010000                                  Best Buy > Gift Center  \n",
       "abcat0011000                            Best Buy > Gift Center > Her  \n",
       "abcat0011001            Best Buy > Gift Center > Her > Leisure Gifts  \n",
       "abcat0011002       Best Buy > Gift Center > Her > Kitchen Essentials  \n",
       "abcat0011003              Best Buy > Gift Center > Her > Electronics  \n",
       "...                                                              ...  \n",
       "pcmcat97200050015  Best Buy > Name Brands > Sony > |Computer & Ph...  \n",
       "pcmcat99000050001   Best Buy > Name Brands > Sony > Sony DSLR Camera  \n",
       "pcmcat99000050002        Best Buy > Name Brands > Dynex > Networking  \n",
       "pcmcat99300050000  Best Buy > Name Brands > Dynex > Networking > ...  \n",
       "cat00000           Best Buy > Name Brands > Sony > Sony Digital S...  \n",
       "\n",
       "[4640 rows x 2 columns]"
      ]
     },
     "execution_count": 54,
     "metadata": {},
     "output_type": "execute_result"
    }
   ],
   "source": [
    "cats"
   ]
  },
  {
   "cell_type": "code",
   "execution_count": 19,
   "id": "12ab3990",
   "metadata": {},
   "outputs": [
    {
     "data": {
      "text/plain": [
       "(('__label__pcmcat218000050003',\n",
       "  '__label__pcmcat209000050007',\n",
       "  '__label__pcmcat218000050000'),\n",
       " array([0.44220558, 0.43358949, 0.03764988]))"
      ]
     },
     "execution_count": 19,
     "metadata": {},
     "output_type": "execute_result"
    }
   ],
   "source": [
    "model_1k.predict('ipad 5', k=3)"
   ]
  },
  {
   "cell_type": "code",
   "execution_count": 61,
   "id": "b48b39b5",
   "metadata": {},
   "outputs": [],
   "source": [
    "def predict_cat(keyword, model=model_1k, k = 3):\n",
    "    (preds, probs) = model.predict(keyword, k=k)\n",
    "    pred_cats = [cats.loc[pred.replace('__label__', '')] for pred in preds]\n",
    "    crumbs = [pc['crumbs'] for pc in pred_cats]\n",
    "    return list(zip(probs, crumbs))"
   ]
  },
  {
   "cell_type": "code",
   "execution_count": 70,
   "id": "4c914a21",
   "metadata": {},
   "outputs": [],
   "source": [
    "from pprint import pp"
   ]
  },
  {
   "cell_type": "code",
   "execution_count": 73,
   "id": "22309877",
   "metadata": {},
   "outputs": [
    {
     "name": "stdout",
     "output_type": "stream",
     "text": [
      "[(0.4422055780887604,\n",
      "  'Best Buy > Computers & Tablets > Tablets & iPad > iPad Accessories > iPad '\n",
      "  'Cables, Chargers & Adapters'),\n",
      " (0.43358948826789856, 'Best Buy > Computers & Tablets > Tablets & iPad'),\n",
      " (0.03764987736940384,\n",
      "  'Best Buy > Computers & Tablets > Tablets & iPad > iPad Accessories')]\n"
     ]
    }
   ],
   "source": [
    "pp(predict_cat('ipad 5', model=model_1k, k=3))"
   ]
  },
  {
   "cell_type": "code",
   "execution_count": 74,
   "id": "3c3ddc73",
   "metadata": {},
   "outputs": [
    {
     "name": "stdout",
     "output_type": "stream",
     "text": [
      "ipad 5 [(0.4422055780887604, 'Best Buy > Computers & Tablets > Tablets & iPad > iPad Accessories > iPad Cables, Chargers & Adapters'), (0.43358948826789856, 'Best Buy > Computers & Tablets > Tablets & iPad'), (0.03764987736940384, 'Best Buy > Computers & Tablets > Tablets & iPad > iPad Accessories')]\n",
      "\n",
      "\n",
      "ipad 5 [(0.6052414178848267, 'Best Buy > Computers & Tablets > test'), (0.19092394411563873, 'Best Buy > Computers & Tablets > Tablets & iPad'), (0.09940686076879501, 'Best Buy > Appliances > Fitness > Biking > All iPod & MP3 Players')]\n"
     ]
    }
   ],
   "source": [
    "print('ipad 5', predict_cat('ipad 5', model=model_1k, k=3))\n",
    "print(\"\\n\")\n",
    "print('ipad 5', predict_cat('ipad 5', model=model_10k, k=3))"
   ]
  },
  {
   "cell_type": "code",
   "execution_count": 34,
   "id": "f527d2a3",
   "metadata": {
    "scrolled": true
   },
   "outputs": [
    {
     "data": {
      "text/plain": [
       "('ipad 5 cover',\n",
       " [(0.8917661309242249, 'iPad Accessories > iPad Cases, Covers & Sleeves'),\n",
       "  (0.030240604653954506, 'Mobile Phone Cases & Clips > Fitted'),\n",
       "  (0.01598954200744629, 'Tablets & iPad > iPad Accessories')])"
      ]
     },
     "execution_count": 34,
     "metadata": {},
     "output_type": "execute_result"
    }
   ],
   "source": [
    "'ipad 5 cover', predict_cat('ipad 5 cover')"
   ]
  },
  {
   "cell_type": "code",
   "execution_count": 39,
   "id": "5dfa3e55",
   "metadata": {},
   "outputs": [
    {
     "data": {
      "text/plain": [
       "('iphone 5',\n",
       " [(0.3063027858734131, 'Mobile Phones > All Mobile Phones with Plans'),\n",
       "  (0.20283962786197662, 'Surface & Screen Protection > Screen Protectors'),\n",
       "  (0.16612371802330017, 'iPhone Accessories > Cases')])"
      ]
     },
     "execution_count": 39,
     "metadata": {},
     "output_type": "execute_result"
    }
   ],
   "source": [
    "'iphone 5', predict_cat('iphone 5', model=model_1k, k=3)"
   ]
  },
  {
   "cell_type": "code",
   "execution_count": 44,
   "id": "f405468e",
   "metadata": {},
   "outputs": [
    {
     "data": {
      "text/plain": [
       "('iphone 5',\n",
       " [(0.4193388521671295, 'Mobile Phones > All Mobile Phones with Plans'),\n",
       "  (0.33154571056365967, 'Best Buy > Appliances'),\n",
       "  (0.19655965268611908, 'Biking > All iPod & MP3 Players')])"
      ]
     },
     "execution_count": 44,
     "metadata": {},
     "output_type": "execute_result"
    }
   ],
   "source": [
    "'iphone 5', predict_cat('iphone 5', model=model_10k, k=3)"
   ]
  },
  {
   "cell_type": "code",
   "execution_count": 45,
   "id": "cd9de7b6",
   "metadata": {},
   "outputs": [
    {
     "data": {
      "text/plain": [
       "('ipad 5 cover',\n",
       " [(0.9808470606803894, 'Tablets & iPad > Tablet Accessories'),\n",
       "  (0.010697782970964909, 'Tablets & iPad > iPad Accessories'),\n",
       "  (0.006104671396315098, 'Tablets & iPad > Tablets')])"
      ]
     },
     "execution_count": 45,
     "metadata": {},
     "output_type": "execute_result"
    }
   ],
   "source": [
    "'ipad 5 cover', predict_cat('ipad 5 cover', model=model_10k, k=3)"
   ]
  },
  {
   "cell_type": "code",
   "execution_count": 75,
   "id": "72232d31",
   "metadata": {},
   "outputs": [
    {
     "data": {
      "text/plain": [
       "('iPad 5 cOvEr',\n",
       " [(0.08316085487604141, 'Best Buy > Audio & MP3 > Car Audio'),\n",
       "  (0.07396192103624344,\n",
       "   'Best Buy > Computers & Tablets > Computer Cards & Components'),\n",
       "  (0.06074994057416916, 'Best Buy > Computers & Tablets > Hard Drives')])"
      ]
     },
     "execution_count": 75,
     "metadata": {},
     "output_type": "execute_result"
    }
   ],
   "source": [
    "'iPad 5 cOvEr', predict_cat('iPad 5 cOvEr', model=model_10k, k=3)"
   ]
  },
  {
   "cell_type": "code",
   "execution_count": 76,
   "id": "dfa4809c",
   "metadata": {},
   "outputs": [],
   "source": [
    "query = 'iPad 5 cOvEr'"
   ]
  },
  {
   "cell_type": "code",
   "execution_count": 78,
   "id": "b07a35fc",
   "metadata": {},
   "outputs": [],
   "source": [
    "import re"
   ]
  },
  {
   "cell_type": "code",
   "execution_count": 79,
   "id": "5979322f",
   "metadata": {},
   "outputs": [],
   "source": [
    "query = query.strip().lower()\n",
    "query = re.sub(r\"[^a-zA-Z0-9\\s]\", \"\", query)\n",
    "query = re.sub(r\"\\s{2,}\", \" \", query)"
   ]
  },
  {
   "cell_type": "code",
   "execution_count": 80,
   "id": "fdb6849e",
   "metadata": {},
   "outputs": [
    {
     "data": {
      "text/plain": [
       "'ipad 5 cover'"
      ]
     },
     "execution_count": 80,
     "metadata": {},
     "output_type": "execute_result"
    }
   ],
   "source": [
    "query"
   ]
  },
  {
   "cell_type": "code",
   "execution_count": 81,
   "id": "6fe32429",
   "metadata": {},
   "outputs": [],
   "source": [
    "from nltk.stem.snowball import SnowballStemmer\n",
    "stemmer = SnowballStemmer(\"english\")\n"
   ]
  },
  {
   "cell_type": "code",
   "execution_count": 82,
   "id": "2dc3bf4b",
   "metadata": {},
   "outputs": [
    {
     "data": {
      "text/plain": [
       "'ipad 5 cov'"
      ]
     },
     "execution_count": 82,
     "metadata": {},
     "output_type": "execute_result"
    }
   ],
   "source": [
    "stemmer.stem(query)"
   ]
  },
  {
   "cell_type": "code",
   "execution_count": 83,
   "id": "0d32a3bc",
   "metadata": {},
   "outputs": [],
   "source": [
    "def normalize_query(query):\n",
    "    query = query.strip().lower()\n",
    "    query = re.sub(r\"[^a-zA-Z0-9\\s]\", \"\", query)\n",
    "    query = re.sub(r\"\\s{2,}\", \" \", query)\n",
    "    query = stemmer.stem(query)\n",
    "    return query"
   ]
  },
  {
   "cell_type": "code",
   "execution_count": 84,
   "id": "4b4cbb09",
   "metadata": {},
   "outputs": [
    {
     "data": {
      "text/plain": [
       "('ipad 5 cover',\n",
       " [(0.8333727717399597, 'Best Buy > Computers & Tablets > test'),\n",
       "  (0.06417825073003769, 'Best Buy > Computers & Tablets'),\n",
       "  (0.021915797144174576,\n",
       "   'Best Buy > TV & Home Theater > Home Theater Systems > Smart  Home Theater Systems')])"
      ]
     },
     "execution_count": 84,
     "metadata": {},
     "output_type": "execute_result"
    }
   ],
   "source": [
    "keyword = 'ipad 5 cover'\n",
    "keyword, predict_cat(normalize_query(keyword), model=model_10k, k=3)"
   ]
  },
  {
   "cell_type": "code",
   "execution_count": 85,
   "id": "42297e74",
   "metadata": {},
   "outputs": [
    {
     "data": {
      "text/plain": [
       "('ipad 5 cover',\n",
       " [(0.7835549116134644,\n",
       "   'Best Buy > Computers & Tablets > Tablets & iPad > iPad Accessories'),\n",
       "  (0.07657229155302048,\n",
       "   'Best Buy > Computers & Tablets > Tablets & iPad > iPad Accessories > iPad Cables, Chargers & Adapters'),\n",
       "  (0.03840577229857445,\n",
       "   'Best Buy > Computers & Tablets > Tablets & iPad > iPad Accessories > iPad Cases, Covers & Sleeves')])"
      ]
     },
     "execution_count": 85,
     "metadata": {},
     "output_type": "execute_result"
    }
   ],
   "source": [
    "keyword = 'ipad 5 cover'\n",
    "keyword, predict_cat(normalize_query(keyword), model=model_1k, k=3)"
   ]
  },
  {
   "cell_type": "code",
   "execution_count": 89,
   "id": "1d38d895",
   "metadata": {},
   "outputs": [
    {
     "data": {
      "text/plain": [
       "(('__label__pcmcat218000050000',\n",
       "  '__label__pcmcat171900050029',\n",
       "  '__label__pcmcat217900050000'),\n",
       " array([0.89176613, 0.0302406 , 0.01598954]))"
      ]
     },
     "execution_count": 89,
     "metadata": {},
     "output_type": "execute_result"
    }
   ],
   "source": [
    "model_1k.predict(keyword, k=3)"
   ]
  },
  {
   "cell_type": "code",
   "execution_count": 90,
   "id": "632ff444",
   "metadata": {},
   "outputs": [
    {
     "data": {
      "text/plain": [
       "('ipad 5',\n",
       " [(0.4422055780887604,\n",
       "   'Best Buy > Computers & Tablets > Tablets & iPad > iPad Accessories > iPad Cables, Chargers & Adapters'),\n",
       "  (0.43358948826789856, 'Best Buy > Computers & Tablets > Tablets & iPad'),\n",
       "  (0.03764987736940384,\n",
       "   'Best Buy > Computers & Tablets > Tablets & iPad > iPad Accessories')])"
      ]
     },
     "execution_count": 90,
     "metadata": {},
     "output_type": "execute_result"
    }
   ],
   "source": [
    "keyword = 'ipad 5'\n",
    "keyword, predict_cat(normalize_query(keyword), model=model_1k, k=3)"
   ]
  },
  {
   "cell_type": "code",
   "execution_count": 91,
   "id": "382559ef",
   "metadata": {},
   "outputs": [
    {
     "data": {
      "text/plain": [
       "('iphone',\n",
       " [(0.501879870891571,\n",
       "   'Best Buy > Cameras & Camcorders > Camcorders > Shoot & Share Camcorders'),\n",
       "  (0.07559408992528915,\n",
       "   'Best Buy > Audio & MP3 > Marine Audio > Marine Speakers'),\n",
       "  (0.06835659593343735,\n",
       "   'Best Buy > Mobile Phones > Mobile Phone Accessories > Surface & Screen Protection > Surface Protectors')])"
      ]
     },
     "execution_count": 91,
     "metadata": {},
     "output_type": "execute_result"
    }
   ],
   "source": [
    "keyword = 'iphone'\n",
    "keyword, predict_cat(normalize_query(keyword), model=model_1k, k=3)"
   ]
  },
  {
   "cell_type": "code",
   "execution_count": 92,
   "id": "b68d62b2",
   "metadata": {},
   "outputs": [
    {
     "data": {
      "text/plain": [
       "('samsung galaxy',\n",
       " [(0.4715096354484558,\n",
       "   'Best Buy > Computers & Tablets > Tablets & iPad > iPad'),\n",
       "  (0.1247047707438469,\n",
       "   'Best Buy > Best Buy For Business > Small Business & Home Office Essentials > Mobile Office > Laptop Accessories > Wireless Remote Presenters'),\n",
       "  (0.10422579199075699,\n",
       "   'Best Buy > Cameras & Camcorders > Camcorders > Shoot & Share Camcorders')])"
      ]
     },
     "execution_count": 92,
     "metadata": {},
     "output_type": "execute_result"
    }
   ],
   "source": [
    "keyword = 'samsung galaxy'\n",
    "keyword, predict_cat(normalize_query(keyword), model=model_1k, k=3)"
   ]
  },
  {
   "cell_type": "code",
   "execution_count": 93,
   "id": "752f51eb",
   "metadata": {},
   "outputs": [
    {
     "data": {
      "text/plain": [
       "('samsung galaxy',\n",
       " [(0.5117916464805603,\n",
       "   'Best Buy > Computers & Tablets > Tablets & iPad > iPad'),\n",
       "  (0.165622279047966,\n",
       "   'Best Buy > Cameras & Camcorders > Camcorders > Shoot & Share Camcorders'),\n",
       "  (0.11534540355205536,\n",
       "   'Best Buy > TV & Home Theater > Home Theater Systems > Smart  Home Theater Systems')])"
      ]
     },
     "execution_count": 93,
     "metadata": {},
     "output_type": "execute_result"
    }
   ],
   "source": [
    "keyword = 'samsung galaxy'\n",
    "keyword, predict_cat(normalize_query(keyword), model=model_10k, k=3)"
   ]
  },
  {
   "cell_type": "code",
   "execution_count": null,
   "id": "b47656dc",
   "metadata": {},
   "outputs": [],
   "source": []
  },
  {
   "cell_type": "code",
   "execution_count": null,
   "id": "2a56e56d",
   "metadata": {},
   "outputs": [],
   "source": []
  },
  {
   "cell_type": "code",
   "execution_count": null,
   "id": "60b14076",
   "metadata": {},
   "outputs": [],
   "source": []
  },
  {
   "cell_type": "code",
   "execution_count": null,
   "id": "2e4e2543",
   "metadata": {},
   "outputs": [],
   "source": []
  },
  {
   "cell_type": "code",
   "execution_count": null,
   "id": "78214fe1",
   "metadata": {},
   "outputs": [],
   "source": []
  },
  {
   "cell_type": "code",
   "execution_count": null,
   "id": "43e81ebe",
   "metadata": {},
   "outputs": [],
   "source": []
  }
 ],
 "metadata": {
  "kernelspec": {
   "display_name": "Python 3 (ipykernel)",
   "language": "python",
   "name": "python3"
  },
  "language_info": {
   "codemirror_mode": {
    "name": "ipython",
    "version": 3
   },
   "file_extension": ".py",
   "mimetype": "text/x-python",
   "name": "python",
   "nbconvert_exporter": "python",
   "pygments_lexer": "ipython3",
   "version": "3.9.7"
  }
 },
 "nbformat": 4,
 "nbformat_minor": 5
}
