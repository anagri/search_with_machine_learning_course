{
 "cells": [
  {
   "cell_type": "code",
   "execution_count": 1,
   "id": "9e0206aa",
   "metadata": {},
   "outputs": [],
   "source": [
    "import os\n",
    "import argparse\n",
    "import xml.etree.ElementTree as ET\n",
    "import pandas as pd\n",
    "import numpy as np\n",
    "import csv\n",
    "\n",
    "# Useful if you want to perform stemming.\n",
    "import nltk"
   ]
  },
  {
   "cell_type": "code",
   "execution_count": 2,
   "id": "2b512186",
   "metadata": {},
   "outputs": [],
   "source": [
    "from nltk.stem.snowball import SnowballStemmer"
   ]
  },
  {
   "cell_type": "code",
   "execution_count": 3,
   "id": "948f062e",
   "metadata": {},
   "outputs": [],
   "source": [
    "snowball = SnowballStemmer(\"english\")"
   ]
  },
  {
   "cell_type": "code",
   "execution_count": 5,
   "id": "7b9e5044",
   "metadata": {},
   "outputs": [],
   "source": [
    "categories_file_name = r'/workspace/datasets/product_data/categories/categories_0001_abcat0010000_to_pcmcat99300050000.xml'\n",
    "\n",
    "queries_file_name = r'/workspace/datasets/train.csv'\n",
    "output_file_name = r'/workspace/datasets/labeled_query_data.txt'\n",
    "min_queries = 1000\n",
    "root_category_id = 'cat00000'"
   ]
  },
  {
   "cell_type": "code",
   "execution_count": 6,
   "id": "468d5aff",
   "metadata": {},
   "outputs": [],
   "source": [
    "tree = ET.parse(categories_file_name)\n",
    "root = tree.getroot()\n",
    "\n",
    "# Parse the category XML file to map each category id to its parent category id in a dataframe.\n",
    "categories = []\n",
    "parents = []\n",
    "for child in root:\n",
    "    id = child.find('id').text\n",
    "    cat_path = child.find('path')\n",
    "    cat_path_ids = [cat.find('id').text for cat in cat_path]\n",
    "    leaf_id = cat_path_ids[-1]\n",
    "    if leaf_id != root_category_id:\n",
    "        categories.append(leaf_id)\n",
    "        parents.append(cat_path_ids[-2])\n",
    "\n",
    "categories.append(root_category_id)\n",
    "parents.append(root_category_id)\n",
    "\n",
    "parents_df = pd.DataFrame(list(zip(categories, parents)), columns =['category', 'parent'])"
   ]
  },
  {
   "cell_type": "code",
   "execution_count": 7,
   "id": "add7dd35",
   "metadata": {},
   "outputs": [],
   "source": [
    "df = pd.read_csv(queries_file_name)[['category', 'query']]"
   ]
  },
  {
   "cell_type": "code",
   "execution_count": 8,
   "id": "96b9560d",
   "metadata": {},
   "outputs": [],
   "source": [
    "df = df[df['category'].isin(categories)]"
   ]
  },
  {
   "cell_type": "code",
   "execution_count": 9,
   "id": "1501cb52",
   "metadata": {},
   "outputs": [
    {
     "data": {
      "text/plain": [
       "1854998"
      ]
     },
     "execution_count": 9,
     "metadata": {},
     "output_type": "execute_result"
    }
   ],
   "source": [
    "len(df)"
   ]
  },
  {
   "cell_type": "code",
   "execution_count": 10,
   "id": "301a1fae",
   "metadata": {},
   "outputs": [],
   "source": [
    "df['query'] = df['query'].str.strip().str.lower()\n",
    "df['query'] = df['query'].str.replace(r\"[^a-zA-Z0-9\\s]\", \" \", regex=True)\n",
    "df['query'] = df['query'].str.replace(r\"\\s{2,}\", \" \", regex=True)\n",
    "df['query'] = df.apply(lambda x: snowball.stem(x['query']), axis=1)\n",
    "df['count'] = 1"
   ]
  },
  {
   "cell_type": "code",
   "execution_count": 11,
   "id": "a7dd975c",
   "metadata": {},
   "outputs": [],
   "source": [
    "category_lookup = parents_df.set_index('category').sort_index()"
   ]
  },
  {
   "cell_type": "code",
   "execution_count": 39,
   "id": "04c33e7e",
   "metadata": {},
   "outputs": [],
   "source": [
    "def new_cats_for(cats_with_lowq):\n",
    "    def find_parent(x):\n",
    "        if x['category'] in cats_with_lowq:\n",
    "            return category_lookup.loc[x['category']]['parent']\n",
    "        return x['category']\n",
    "    return find_parent"
   ]
  },
  {
   "cell_type": "code",
   "execution_count": 45,
   "id": "cfa0757d",
   "metadata": {
    "scrolled": true
   },
   "outputs": [
    {
     "name": "stdout",
     "output_type": "stream",
     "text": [
      "initial total rows:  1854998\n",
      "initial unique cats:  605\n"
     ]
    }
   ],
   "source": [
    "print('initial total rows: ', len(df))\n",
    "print('initial unique cats: ', len(df['category'].unique()))"
   ]
  },
  {
   "cell_type": "code",
   "execution_count": 17,
   "id": "00040751",
   "metadata": {},
   "outputs": [],
   "source": [
    "df_gbc = df[['category', 'count']].groupby(['category']).sum()"
   ]
  },
  {
   "cell_type": "code",
   "execution_count": 18,
   "id": "13d57463",
   "metadata": {},
   "outputs": [],
   "source": [
    "cats_with_lowq = df_gbc[df_gbc['count'] < min_queries].index"
   ]
  },
  {
   "cell_type": "code",
   "execution_count": 40,
   "id": "8face1ed",
   "metadata": {},
   "outputs": [],
   "source": [
    "new_categories = df.apply(new_cats_for(cats_with_lowq), axis=1)"
   ]
  },
  {
   "cell_type": "code",
   "execution_count": 42,
   "id": "5dc8fa5b",
   "metadata": {},
   "outputs": [
    {
     "data": {
      "text/html": [
       "<div>\n",
       "<style scoped>\n",
       "    .dataframe tbody tr th:only-of-type {\n",
       "        vertical-align: middle;\n",
       "    }\n",
       "\n",
       "    .dataframe tbody tr th {\n",
       "        vertical-align: top;\n",
       "    }\n",
       "\n",
       "    .dataframe thead th {\n",
       "        text-align: right;\n",
       "    }\n",
       "</style>\n",
       "<table border=\"1\" class=\"dataframe\">\n",
       "  <thead>\n",
       "    <tr style=\"text-align: right;\">\n",
       "      <th></th>\n",
       "      <th>self</th>\n",
       "      <th>other</th>\n",
       "    </tr>\n",
       "  </thead>\n",
       "  <tbody>\n",
       "    <tr>\n",
       "      <th>10</th>\n",
       "      <td>pcmcat138100050040</td>\n",
       "      <td>abcat0515012</td>\n",
       "    </tr>\n",
       "    <tr>\n",
       "      <th>16</th>\n",
       "      <td>abcat0410020</td>\n",
       "      <td>pcmcat156200050014</td>\n",
       "    </tr>\n",
       "    <tr>\n",
       "      <th>23</th>\n",
       "      <td>abcat0515022</td>\n",
       "      <td>abcat0515020</td>\n",
       "    </tr>\n",
       "    <tr>\n",
       "      <th>24</th>\n",
       "      <td>abcat0515023</td>\n",
       "      <td>abcat0515020</td>\n",
       "    </tr>\n",
       "    <tr>\n",
       "      <th>31</th>\n",
       "      <td>pcmcat166600050000</td>\n",
       "      <td>abcat0107015</td>\n",
       "    </tr>\n",
       "    <tr>\n",
       "      <th>...</th>\n",
       "      <td>...</td>\n",
       "      <td>...</td>\n",
       "    </tr>\n",
       "    <tr>\n",
       "      <th>1865196</th>\n",
       "      <td>pcmcat226200050026</td>\n",
       "      <td>pcmcat226200050017</td>\n",
       "    </tr>\n",
       "    <tr>\n",
       "      <th>1865198</th>\n",
       "      <td>pcmcat191200050015</td>\n",
       "      <td>abcat0811002</td>\n",
       "    </tr>\n",
       "    <tr>\n",
       "      <th>1865201</th>\n",
       "      <td>pcmcat220700050010</td>\n",
       "      <td>abcat0103000</td>\n",
       "    </tr>\n",
       "    <tr>\n",
       "      <th>1865217</th>\n",
       "      <td>abcat0507011</td>\n",
       "      <td>abcat0507000</td>\n",
       "    </tr>\n",
       "    <tr>\n",
       "      <th>1865245</th>\n",
       "      <td>abcat0410024</td>\n",
       "      <td>pcmcat145100050000</td>\n",
       "    </tr>\n",
       "  </tbody>\n",
       "</table>\n",
       "<p>224005 rows × 2 columns</p>\n",
       "</div>"
      ],
      "text/plain": [
       "                       self               other\n",
       "10       pcmcat138100050040        abcat0515012\n",
       "16             abcat0410020  pcmcat156200050014\n",
       "23             abcat0515022        abcat0515020\n",
       "24             abcat0515023        abcat0515020\n",
       "31       pcmcat166600050000        abcat0107015\n",
       "...                     ...                 ...\n",
       "1865196  pcmcat226200050026  pcmcat226200050017\n",
       "1865198  pcmcat191200050015        abcat0811002\n",
       "1865201  pcmcat220700050010        abcat0103000\n",
       "1865217        abcat0507011        abcat0507000\n",
       "1865245        abcat0410024  pcmcat145100050000\n",
       "\n",
       "[224005 rows x 2 columns]"
      ]
     },
     "execution_count": 42,
     "metadata": {},
     "output_type": "execute_result"
    }
   ],
   "source": [
    "df['category'].compare(new_categories)"
   ]
  },
  {
   "cell_type": "code",
   "execution_count": 43,
   "id": "397286ff",
   "metadata": {},
   "outputs": [
    {
     "data": {
      "text/plain": [
       "1854998"
      ]
     },
     "execution_count": 43,
     "metadata": {},
     "output_type": "execute_result"
    }
   ],
   "source": [
    "len(df)"
   ]
  },
  {
   "cell_type": "code",
   "execution_count": 44,
   "id": "5281ade8",
   "metadata": {},
   "outputs": [],
   "source": [
    "df['category'] = new_categories"
   ]
  },
  {
   "cell_type": "code",
   "execution_count": null,
   "id": "0285dd51",
   "metadata": {},
   "outputs": [],
   "source": []
  },
  {
   "cell_type": "code",
   "execution_count": 41,
   "id": "ece59723",
   "metadata": {},
   "outputs": [
    {
     "data": {
      "text/plain": [
       "0                abcat0101001\n",
       "1                abcat0101001\n",
       "2          pcmcat193100050014\n",
       "3                abcat0101001\n",
       "4                abcat0101005\n",
       "                  ...        \n",
       "1865264    pcmcat247400050000\n",
       "1865265    pcmcat218000050000\n",
       "1865266    pcmcat248500050020\n",
       "1865267    pcmcat209000050008\n",
       "1865268    pcmcat182300050008\n",
       "Length: 1854998, dtype: object"
      ]
     },
     "execution_count": 41,
     "metadata": {},
     "output_type": "execute_result"
    }
   ],
   "source": [
    "new_categories"
   ]
  },
  {
   "cell_type": "code",
   "execution_count": null,
   "id": "c92851c2",
   "metadata": {},
   "outputs": [],
   "source": []
  },
  {
   "cell_type": "code",
   "execution_count": null,
   "id": "433e58b7",
   "metadata": {},
   "outputs": [],
   "source": []
  },
  {
   "cell_type": "code",
   "execution_count": null,
   "id": "aabff135",
   "metadata": {},
   "outputs": [],
   "source": []
  },
  {
   "cell_type": "code",
   "execution_count": null,
   "id": "ef3e894f",
   "metadata": {},
   "outputs": [],
   "source": [
    "si = low_counts.index.sort"
   ]
  },
  {
   "cell_type": "code",
   "execution_count": null,
   "id": "2633ba5d",
   "metadata": {},
   "outputs": [],
   "source": [
    "'abcat0100000' in low_counts.index.sort"
   ]
  },
  {
   "cell_type": "code",
   "execution_count": null,
   "id": "9e91502a",
   "metadata": {},
   "outputs": [],
   "source": [
    "df_q = df[df['category'].isin(low_counts['category'])]"
   ]
  },
  {
   "cell_type": "code",
   "execution_count": null,
   "id": "637308be",
   "metadata": {},
   "outputs": [],
   "source": [
    "new_cats = df.apply(lambda x: category_lookup.loc[x['category']]['parent'] if x['category'] in low_counts.index else x['category'], axis=1)"
   ]
  },
  {
   "cell_type": "code",
   "execution_count": null,
   "id": "bf632c39",
   "metadata": {},
   "outputs": [],
   "source": [
    "df_q['category'].equals(new_cats)"
   ]
  },
  {
   "cell_type": "code",
   "execution_count": null,
   "id": "8fdf4bf6",
   "metadata": {},
   "outputs": [],
   "source": [
    "df_q['category'].compare(new_cats)"
   ]
  },
  {
   "cell_type": "code",
   "execution_count": null,
   "id": "32889256",
   "metadata": {},
   "outputs": [],
   "source": [
    "len(new_cats)"
   ]
  },
  {
   "cell_type": "code",
   "execution_count": null,
   "id": "1d8e68e1",
   "metadata": {},
   "outputs": [],
   "source": [
    "len(df)"
   ]
  },
  {
   "cell_type": "code",
   "execution_count": null,
   "id": "8e13d667",
   "metadata": {},
   "outputs": [],
   "source": [
    "df['category'] = new_cats"
   ]
  },
  {
   "cell_type": "code",
   "execution_count": null,
   "id": "9b074c48",
   "metadata": {},
   "outputs": [],
   "source": [
    "df_q['category'] = new_cats"
   ]
  },
  {
   "cell_type": "code",
   "execution_count": null,
   "id": "6651d880",
   "metadata": {},
   "outputs": [],
   "source": []
  },
  {
   "cell_type": "code",
   "execution_count": null,
   "id": "dc45c6c3",
   "metadata": {},
   "outputs": [],
   "source": []
  },
  {
   "cell_type": "code",
   "execution_count": null,
   "id": "0dc5d5df",
   "metadata": {},
   "outputs": [],
   "source": []
  },
  {
   "cell_type": "code",
   "execution_count": null,
   "id": "0feac5d3",
   "metadata": {},
   "outputs": [],
   "source": []
  },
  {
   "cell_type": "code",
   "execution_count": null,
   "id": "21553c29",
   "metadata": {},
   "outputs": [],
   "source": [
    "df.sort_values('count', ascending=False)"
   ]
  },
  {
   "cell_type": "code",
   "execution_count": null,
   "id": "3427a06a",
   "metadata": {},
   "outputs": [],
   "source": [
    "print('total rows: ', len(df))\n",
    "print('unique cats: ', len(df['category'].unique()))"
   ]
  },
  {
   "cell_type": "code",
   "execution_count": null,
   "id": "17b65955",
   "metadata": {},
   "outputs": [],
   "source": [
    "new_categories = df.apply(find_parent, axis=1)"
   ]
  },
  {
   "cell_type": "code",
   "execution_count": null,
   "id": "ad681536",
   "metadata": {},
   "outputs": [],
   "source": [
    "df['category'].compare(new_categories)"
   ]
  },
  {
   "cell_type": "code",
   "execution_count": null,
   "id": "124c2c80",
   "metadata": {},
   "outputs": [],
   "source": [
    "df['category'] = new_categories"
   ]
  },
  {
   "cell_type": "code",
   "execution_count": null,
   "id": "e1c9b271",
   "metadata": {},
   "outputs": [],
   "source": [
    "df.head()"
   ]
  },
  {
   "cell_type": "markdown",
   "id": "1a12cec3",
   "metadata": {},
   "source": [
    "### 2nd iteration"
   ]
  },
  {
   "cell_type": "code",
   "execution_count": null,
   "id": "5b20675a",
   "metadata": {},
   "outputs": [],
   "source": [
    "df = df.groupby(['category', 'query'], as_index=False)['count'].sum()"
   ]
  },
  {
   "cell_type": "code",
   "execution_count": null,
   "id": "21480daf",
   "metadata": {},
   "outputs": [],
   "source": [
    "df.sort_values('count', ascending=False)"
   ]
  },
  {
   "cell_type": "code",
   "execution_count": null,
   "id": "ecc94e2f",
   "metadata": {},
   "outputs": [],
   "source": [
    "print('total rows: ', len(df))\n",
    "print('unique cats: ', len(df['category'].unique()))"
   ]
  },
  {
   "cell_type": "code",
   "execution_count": null,
   "id": "efda0e11",
   "metadata": {},
   "outputs": [],
   "source": [
    "new_categories = df.apply(find_parent, axis=1)"
   ]
  },
  {
   "cell_type": "code",
   "execution_count": null,
   "id": "5069b66e",
   "metadata": {},
   "outputs": [],
   "source": [
    "df['category'].compare(new_categories)"
   ]
  },
  {
   "cell_type": "code",
   "execution_count": null,
   "id": "6be751f6",
   "metadata": {},
   "outputs": [],
   "source": [
    "df['category'] = new_categories"
   ]
  },
  {
   "cell_type": "code",
   "execution_count": null,
   "id": "796c1519",
   "metadata": {},
   "outputs": [],
   "source": [
    "df.head()"
   ]
  },
  {
   "cell_type": "code",
   "execution_count": null,
   "id": "f393d8f3",
   "metadata": {},
   "outputs": [],
   "source": []
  },
  {
   "cell_type": "code",
   "execution_count": null,
   "id": "0c1821b6",
   "metadata": {},
   "outputs": [],
   "source": []
  },
  {
   "cell_type": "code",
   "execution_count": null,
   "id": "dd075f22",
   "metadata": {},
   "outputs": [],
   "source": []
  },
  {
   "cell_type": "code",
   "execution_count": null,
   "id": "11525dc7",
   "metadata": {},
   "outputs": [],
   "source": []
  },
  {
   "cell_type": "code",
   "execution_count": null,
   "id": "b4571896",
   "metadata": {},
   "outputs": [],
   "source": []
  },
  {
   "cell_type": "code",
   "execution_count": null,
   "id": "3b834e33",
   "metadata": {},
   "outputs": [],
   "source": []
  },
  {
   "cell_type": "code",
   "execution_count": null,
   "id": "d5dbbf20",
   "metadata": {},
   "outputs": [],
   "source": []
  },
  {
   "cell_type": "code",
   "execution_count": null,
   "id": "778a937d",
   "metadata": {},
   "outputs": [],
   "source": []
  },
  {
   "cell_type": "code",
   "execution_count": null,
   "id": "ca8cf6f9",
   "metadata": {},
   "outputs": [],
   "source": [
    "\n",
    "print('initial total rows: ', len(df))\n",
    "print('initial unique cats: ', len(df['category'].unique()))\n",
    "\n",
    "complete = False\n",
    "while not complete:\n",
    "    df = df.groupby(['category', 'query'], as_index=False)['count'].sum()\n",
    "    print('total rows: ', len(df))\n",
    "    print('unique cats: ', len(df['category'].unique()))\n",
    "    new_categories = df.apply(find_parent, axis=1)\n",
    "    complete = df['category'].equals(new_categories)\n",
    "    df['category'] = new_categories\n",
    "\n",
    "# Create labels in fastText format.\n",
    "df['label'] = '__label__' + df['category']\n",
    "\n",
    "# Output labeled query data as a space-separated file, making sure that every category is in the taxonomy.\n",
    "df = df[df['category'].isin(categories)]\n",
    "df['output'] = df['label'] + ' ' + df['query']\n",
    "df[['output']].to_csv(output_file_name, header=False, sep='|', escapechar='\\\\', quoting=csv.QUOTE_NONE, index=False)\n"
   ]
  }
 ],
 "metadata": {
  "kernelspec": {
   "display_name": "Python 3 (ipykernel)",
   "language": "python",
   "name": "python3"
  },
  "language_info": {
   "codemirror_mode": {
    "name": "ipython",
    "version": 3
   },
   "file_extension": ".py",
   "mimetype": "text/x-python",
   "name": "python",
   "nbconvert_exporter": "python",
   "pygments_lexer": "ipython3",
   "version": "3.9.7"
  }
 },
 "nbformat": 4,
 "nbformat_minor": 5
}
