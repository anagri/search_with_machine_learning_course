{
 "cells": [
  {
   "cell_type": "code",
   "execution_count": 1,
   "id": "6fc3deff",
   "metadata": {},
   "outputs": [],
   "source": [
    "import json\n",
    "import sys\n",
    "import tempfile\n",
    "from urllib.parse import urljoin\n",
    "\n",
    "import requests\n",
    "import xgboost as xgb\n",
    "from opensearchpy import OpenSearch\n",
    "import matplotlib.pyplot as plt\n",
    "from xgboost import XGBClassifier\n",
    "from xgboost import plot_tree"
   ]
  },
  {
   "cell_type": "code",
   "execution_count": 2,
   "id": "afaf8ece",
   "metadata": {},
   "outputs": [],
   "source": [
    "host = 'localhost'\n",
    "port = 9200\n",
    "base_url = \"https://{}:{}/\".format(host, port)\n",
    "auth = ('admin', 'admin')  # For testing only. Don't store credentials in code."
   ]
  },
  {
   "cell_type": "code",
   "execution_count": 3,
   "id": "b06e3ab6",
   "metadata": {},
   "outputs": [],
   "source": [
    "client = OpenSearch(\n",
    "    hosts=[{'host': host, 'port': port}],\n",
    "    http_compress=True,  # enables gzip compression for request bodies\n",
    "    http_auth=auth,\n",
    "    # client_cert = client_cert_path,\n",
    "    # client_key = client_key_path,\n",
    "    use_ssl=True,\n",
    "    verify_certs=False,\n",
    "    ssl_assert_hostname=False,\n",
    "    ssl_show_warn=False,\n",
    ")"
   ]
  },
  {
   "cell_type": "code",
   "execution_count": 4,
   "id": "52be599e",
   "metadata": {},
   "outputs": [],
   "source": [
    "docs = [\n",
    "    {\n",
    "        \"id\": \"doc_a\",\n",
    "        \"title\": \"Fox and Hounds\",\n",
    "        \"body\": \"The quick red fox jumped over the lazy brown dogs.\",\n",
    "        \"price\": \"5.99\",\n",
    "        \"in_stock\": True,\n",
    "        \"category\": \"childrens\"},\n",
    "    {\n",
    "        \"id\": \"doc_b\",\n",
    "        \"title\": \"Fox wins championship\",\n",
    "        \"body\": \"Wearing all red, the Fox jumped out to a lead in the race over the Dog.\",\n",
    "        \"price\": \"15.13\",\n",
    "        \"in_stock\": True,\n",
    "        \"category\": \"sports\"},\n",
    "    {\n",
    "        \"id\": \"doc_c\",\n",
    "        \"title\": \"Lead Paint Removal\",\n",
    "        \"body\": \"All lead must be removed from the brown and red paint.\",\n",
    "        \"price\": \"150.21\",\n",
    "        \"in_stock\": False,\n",
    "        \"category\": \"instructional\"},\n",
    "    {\n",
    "        \"id\": \"doc_d\",\n",
    "        \"title\": \"The Three Little Pigs Revisited\",\n",
    "        \"price\": \"3.51\",\n",
    "        \"in_stock\": True,\n",
    "        \"body\": \"The big, bad wolf huffed and puffed and blew the house down. The end.\",\n",
    "        \"category\": \"childrens\"},\n",
    "    {\n",
    "        \"id\": \"doc_e\",\n",
    "        \"title\": \"Pigs in a Blanket and Other Recipes\",\n",
    "        \"price\": \"27.50\",\n",
    "        \"in_stock\": True,\n",
    "        \"body\": \"Pigs in a blanket aren't as cute as you would think given it's a food and not actual pigs wrapped in blankets.\",\n",
    "        \"category\": \"instructional\"},\n",
    "    {\n",
    "        \"id\": \"doc_f\",\n",
    "        \"title\": \"Dogs are the best\",\n",
    "        \"body\": \"Dogs beat cats every day of the week and twice on Sunday. A dog is always up for doing something.  Since there are so many dog breeds, there is a dog for everyone!\",\n",
    "        \"price\": \"50.99\",\n",
    "        \"in_stock\": True,\n",
    "        \"category\": \"childrens\"},\n",
    "    {\n",
    "        \"id\": \"doc_g\",\n",
    "        \"title\": \"Dog\",\n",
    "        \"body\": \"Dogs rule\",\n",
    "        \"price\": \"5.99\",\n",
    "        \"in_stock\": True,\n",
    "        \"category\": \"childrens\"},\n",
    "    {\n",
    "        \"id\": \"doc_h\",\n",
    "        \"title\": \"Dog: The bounty hunter: living in the red\",\n",
    "        \"body\": \"Dog is a bounty hunter who goes on pretend missions with his friends, one of whom is the Fox\",\n",
    "        \"price\": \"125.99\",\n",
    "        \"in_stock\": True,\n",
    "        \"category\": \"sports\"},\n",
    "]"
   ]
  },
  {
   "cell_type": "code",
   "execution_count": 5,
   "id": "28312b0c",
   "metadata": {},
   "outputs": [],
   "source": [
    "index_name = 'searchml_ltr'\n",
    "index_body = {\n",
    "    'settings': {\n",
    "        'index': {\n",
    "            'query': {\n",
    "                'default_field': \"body\"\n",
    "            }\n",
    "        }\n",
    "    },\n",
    "    \"mappings\": {\n",
    "        \"properties\": {\n",
    "            \"title\": {\"type\": \"text\", \"analyzer\": \"english\"},\n",
    "            \"body\": {\"type\": \"text\", \"analyzer\": \"english\"},\n",
    "            \"in_stock\": {\"type\": \"boolean\"},\n",
    "            \"category\": {\"type\": \"keyword\", \"ignore_above\": \"256\"},\n",
    "            \"price\": {\"type\": \"float\"}\n",
    "        }\n",
    "    }\n",
    "}\n"
   ]
  },
  {
   "cell_type": "code",
   "execution_count": 6,
   "id": "ab226eda",
   "metadata": {},
   "outputs": [
    {
     "data": {
      "text/plain": [
       "{'acknowledged': True, 'shards_acknowledged': True, 'index': 'searchml_ltr'}"
      ]
     },
     "execution_count": 6,
     "metadata": {},
     "output_type": "execute_result"
    }
   ],
   "source": [
    "client.indices.delete(index_name, ignore_unavailable=True)\n",
    "client.indices.create(index_name, body=index_body)\n"
   ]
  },
  {
   "cell_type": "code",
   "execution_count": 7,
   "id": "248791ea",
   "metadata": {},
   "outputs": [
    {
     "name": "stdout",
     "output_type": "stream",
     "text": [
      "Indexing our documents\n",
      "\tIndexing doc_a\n",
      "\tIndexing doc_b\n",
      "\tIndexing doc_c\n",
      "\tIndexing doc_d\n",
      "\tIndexing doc_e\n",
      "\tIndexing doc_f\n",
      "\tIndexing doc_g\n",
      "\tIndexing doc_h\n"
     ]
    }
   ],
   "source": [
    "print(\"Indexing our documents\")\n",
    "for doc in docs:\n",
    "    doc_id = doc[\"id\"]\n",
    "    print(\"\\tIndexing {}\".format(doc_id))\n",
    "    client.index(\n",
    "        index=index_name,\n",
    "        body=doc,\n",
    "        id=doc_id,\n",
    "        refresh=True\n",
    "    )\n"
   ]
  },
  {
   "cell_type": "code",
   "execution_count": 8,
   "id": "d449c573",
   "metadata": {},
   "outputs": [
    {
     "name": "stdout",
     "output_type": "stream",
     "text": [
      "We indexed:\n",
      "epoch      timestamp count\n",
      "1655909722 14:55:22  8\n",
      "\n"
     ]
    }
   ],
   "source": [
    "print(\"We indexed:\\n{}\".format(client.cat.count(index_name, params={\"v\": \"true\"})))\n"
   ]
  },
  {
   "cell_type": "code",
   "execution_count": 9,
   "id": "b62b9895",
   "metadata": {},
   "outputs": [
    {
     "name": "stdout",
     "output_type": "stream",
     "text": [
      "Create our LTR store\n",
      "\tDeleted old store response status: 200\n",
      "\tCreate the new store response status: 200\n"
     ]
    }
   ],
   "source": [
    "ltr_store_name = index_name\n",
    "ltr_store_path = \"_ltr/\" + ltr_store_name\n",
    "\n",
    "print(\"Create our LTR store\")\n",
    "# LTR requests are not supported by the OpenSearchPy client, so we will drop down to using Python's Requests library\n",
    "ltr_model_path = urljoin(base_url, ltr_store_path)\n",
    "# Delete any old storage\n",
    "resp = requests.delete(ltr_model_path, auth=auth, verify=False)\n",
    "print(\"\\tDeleted old store response status: %s\" % resp.status_code)\n",
    "# Create our new LTR storage\n",
    "resp = requests.put(ltr_model_path, auth=auth, verify=False)\n",
    "print(\"\\tCreate the new store response status: %s\" % resp.status_code)\n"
   ]
  },
  {
   "cell_type": "code",
   "execution_count": 10,
   "id": "233c2053",
   "metadata": {},
   "outputs": [
    {
     "name": "stdout",
     "output_type": "stream",
     "text": [
      "featureset_path: https://localhost:9200/_ltr/searchml_ltr/_featureset/ltr_toy\n"
     ]
    }
   ],
   "source": [
    "featureset_name = \"ltr_toy\"\n",
    "headers = {\"Content-Type\": 'application/json'}\n",
    "featureset_path = urljoin(ltr_model_path + \"/\", \"_featureset/{}\".format(featureset_name))\n",
    "print(\"featureset_path:\", featureset_path)\n",
    "# Upload our feature set to our model\n",
    "body_query_feature_name = \"body_query\"\n",
    "title_query_feature_name = \"title_query\"\n",
    "price_func_feature_name = \"price_func\"\n"
   ]
  },
  {
   "cell_type": "code",
   "execution_count": 11,
   "id": "5b0bfa02",
   "metadata": {},
   "outputs": [
    {
     "name": "stdout",
     "output_type": "stream",
     "text": [
      "\tUpload our features to the LTR storage\n"
     ]
    }
   ],
   "source": [
    "print(\"\\tUpload our features to the LTR storage\")\n",
    "ltr_feature_set = {\"featureset\": {\n",
    "    \"features\": [\n",
    "        {  # Instead of using our multifield query_string match, break it out into parts\n",
    "            \"name\": title_query_feature_name,\n",
    "            \"params\": [\"keywords\"],\n",
    "            \"template_language\": \"mustache\",\n",
    "            \"template\": {\n",
    "                \"match\": {\n",
    "                    \"title\": \"{{keywords}}\"\n",
    "                }\n",
    "            }\n",
    "        },\n",
    "        {  # Instead of using our multifield query_string match, break it out into parts\n",
    "            \"name\": body_query_feature_name,\n",
    "            \"params\": [\"keywords\"],\n",
    "            \"template_language\": \"mustache\",\n",
    "            \"template\": {\n",
    "                \"match\": {\n",
    "                    \"body\": \"{{keywords}}\"\n",
    "                }\n",
    "            }\n",
    "        },\n",
    "        # factor in price, albeit naively for this purpose, in practice we should normalize it, which we will do in the project!\n",
    "        {\n",
    "            \"name\": (\"%s\" % price_func_feature_name),\n",
    "            \"template_language\": \"mustache\",\n",
    "            \"template\": {\n",
    "                \"function_score\": {\n",
    "                    \"functions\": [{\n",
    "                        \"field_value_factor\": {\n",
    "                            \"field\": \"price\",\n",
    "                            \"missing\": 0\n",
    "                        }\n",
    "                    }],\n",
    "                    \"query\": {\n",
    "                        \"match_all\": {}\n",
    "                    }\n",
    "                }\n",
    "            }\n",
    "\n",
    "        }\n",
    "    ]\n",
    "}}\n",
    "resp = requests.post(featureset_path, headers=headers, data=json.dumps(ltr_feature_set), auth=auth, verify=False)\n",
    "\n"
   ]
  },
  {
   "cell_type": "code",
   "execution_count": 12,
   "id": "bd233180",
   "metadata": {},
   "outputs": [],
   "source": [
    "class Judgment:\n",
    "\n",
    "    def __init__(self, query, doc_id, display_name, grade=0, features=[], query_str=None):\n",
    "        self.query = query\n",
    "        self.query_str = query_str\n",
    "        self.doc_id = doc_id\n",
    "        self.display_name = display_name\n",
    "        self.grade = grade\n",
    "        self.features = features\n",
    "\n",
    "    # Modified from https://github.com/o19s/elasticsearch-ltr-demo/blob/master/train/judgments.py\n",
    "    def toXGBFormat(self):\n",
    "        featuresAsStrs = [\"%s:%s\" % (idx + 1, feature.get('value', 0)) for idx, feature in enumerate(self.features)]\n",
    "        comment = \"# %s\\t%s\" % (self.doc_id, self.query_str)\n",
    "        return \"%s\\tqid:%s\\t%s %s\" % (self.grade, self.query, \"\\t\".join(featuresAsStrs), comment)\n",
    "\n"
   ]
  },
  {
   "cell_type": "code",
   "execution_count": 13,
   "id": "29b33ae6",
   "metadata": {},
   "outputs": [],
   "source": [
    "queries = {1: \"dogs\", 2: \"red fox\", 3: \"wolf huffed AND puffed OR pig\"}\n",
    "judgments = {}"
   ]
  },
  {
   "cell_type": "code",
   "execution_count": 14,
   "id": "886c0bd2",
   "metadata": {},
   "outputs": [
    {
     "name": "stdout",
     "output_type": "stream",
     "text": [
      "################\n",
      "Executing search: qid: 1; query: dogs\n",
      "##########\n",
      "For each hit answer the question: 'Is this hit relevant(1) or not relevant(0) to the query: dogs?':\n",
      "Title: Dog\n",
      "\n",
      "Body: Dogs rule\n",
      "\n",
      "Enter 0 or 1:\n",
      "input:1\n",
      "Title: Dogs are the best\n",
      "\n",
      "Body: Dogs beat cats every day of the week and twice on Sunday. A dog is always up for doing something.  Since there are so many dog breeds, there is a dog for everyone!\n",
      "\n",
      "Enter 0 or 1:\n",
      "input:1\n",
      "Title: Dog: The bounty hunter: living in the red\n",
      "\n",
      "Body: Dog is a bounty hunter who goes on pretend missions with his friends, one of whom is the Fox\n",
      "\n",
      "Enter 0 or 1:\n",
      "input:1\n",
      "Title: Fox and Hounds\n",
      "\n",
      "Body: The quick red fox jumped over the lazy brown dogs.\n",
      "\n",
      "Enter 0 or 1:\n",
      "input:1\n",
      "Title: Fox wins championship\n",
      "\n",
      "Body: Wearing all red, the Fox jumped out to a lead in the race over the Dog.\n",
      "\n",
      "Enter 0 or 1:\n",
      "input:1\n",
      "################\n",
      "Executing search: qid: 2; query: red fox\n",
      "##########\n",
      "For each hit answer the question: 'Is this hit relevant(1) or not relevant(0) to the query: red fox?':\n",
      "Title: Fox and Hounds\n",
      "\n",
      "Body: The quick red fox jumped over the lazy brown dogs.\n",
      "\n",
      "Enter 0 or 1:\n",
      "input:1\n",
      "Title: Dog: The bounty hunter: living in the red\n",
      "\n",
      "Body: Dog is a bounty hunter who goes on pretend missions with his friends, one of whom is the Fox\n",
      "\n",
      "Enter 0 or 1:\n",
      "input:1\n",
      "Title: Fox wins championship\n",
      "\n",
      "Body: Wearing all red, the Fox jumped out to a lead in the race over the Dog.\n",
      "\n",
      "Enter 0 or 1:\n",
      "input:1\n",
      "Title: Lead Paint Removal\n",
      "\n",
      "Body: All lead must be removed from the brown and red paint.\n",
      "\n",
      "Enter 0 or 1:\n",
      "input:0\n",
      "################\n",
      "Executing search: qid: 3; query: wolf huffed AND puffed OR pig\n",
      "##########\n",
      "For each hit answer the question: 'Is this hit relevant(1) or not relevant(0) to the query: wolf huffed AND puffed OR pig?':\n",
      "Title: The Three Little Pigs Revisited\n",
      "\n",
      "Body: The big, bad wolf huffed and puffed and blew the house down. The end.\n",
      "\n",
      "Enter 0 or 1:\n",
      "input:1\n",
      "Title: Pigs in a Blanket and Other Recipes\n",
      "\n",
      "Body: Pigs in a blanket aren't as cute as you would think given it's a food and not actual pigs wrapped in blankets.\n",
      "\n",
      "Enter 0 or 1:\n",
      "input:0\n"
     ]
    }
   ],
   "source": [
    "answers = [1, 1, 1, 1, 1, 1, 1, 1, 0, 1]\n",
    "# Loop over queries, execute a search\n",
    "for query in queries:\n",
    "    # Used to get the original queries to create the judgments\n",
    "    query_obj = {\n",
    "        'size': 5,\n",
    "        'query': {\n",
    "            'multi_match': {\n",
    "                'query': queries[query],\n",
    "                'fields': ['title^2', 'body']\n",
    "            }\n",
    "        }\n",
    "    }\n",
    "    print(\"################\\nExecuting search: qid: {}; query: {}\\n##########\".format(query, queries[query]))\n",
    "    response = client.search(body=query_obj, index=index_name)\n",
    "    hits = response['hits']['hits']\n",
    "    if len(hits) > 0:\n",
    "        print(\n",
    "            \"For each hit answer the question: 'Is this hit relevant(1) or not relevant(0) to the query: {}?':\".format(\n",
    "                queries[query]))\n",
    "        judge_vals = judgments.get(query)\n",
    "        if judge_vals is None:\n",
    "            judge_vals = []\n",
    "            judgments[query] = judge_vals\n",
    "        for hit in hits:\n",
    "            print(\"Title: {}\\n\\nBody: {}\\n\".format(hit['_source']['title'], hit['_source']['body']))\n",
    "            print(\"Enter 0 or 1:\")\n",
    "            i = \"\"\n",
    "            for i in input(\"input:\"):\n",
    "                grade = i.rstrip()\n",
    "                if grade == \"0\" or grade == \"1\":\n",
    "                    judgment = Judgment(query, hit['_id'], hit['_source']['title'], int(grade))\n",
    "                    judge_vals.append(judgment)\n",
    "                    break\n",
    "                elif grade == \"skip\" or grade == \"s\":\n",
    "                    break\n",
    "                elif grade == \"exit\" or grade == 'e':\n",
    "                    i = grade  # set this back to the trimmed grade so we can exit the outer loop.  Very clunky!\n",
    "                    break\n",
    "            if i == \"exit\" or i == \"e\":\n",
    "                break  # break out of hits, this is ugly, but OK for what we are doing here"
   ]
  },
  {
   "cell_type": "code",
   "execution_count": 15,
   "id": "26703245",
   "metadata": {},
   "outputs": [
    {
     "data": {
      "text/plain": [
       "{1: [<__main__.Judgment at 0x7f668ede65b0>,\n",
       "  <__main__.Judgment at 0x7f668ede64f0>,\n",
       "  <__main__.Judgment at 0x7f668c55b250>,\n",
       "  <__main__.Judgment at 0x7f6665ab6880>,\n",
       "  <__main__.Judgment at 0x7f6665ab6a30>],\n",
       " 2: [<__main__.Judgment at 0x7f6665ab6cd0>,\n",
       "  <__main__.Judgment at 0x7f6665ab6fd0>,\n",
       "  <__main__.Judgment at 0x7f6665ab6ac0>,\n",
       "  <__main__.Judgment at 0x7f6665ab6e80>],\n",
       " 3: [<__main__.Judgment at 0x7f6665a971f0>,\n",
       "  <__main__.Judgment at 0x7f65fb1a5f10>]}"
      ]
     },
     "execution_count": 15,
     "metadata": {},
     "output_type": "execute_result"
    }
   ],
   "source": [
    "judgments"
   ]
  },
  {
   "cell_type": "code",
   "execution_count": 16,
   "id": "1c1a6981",
   "metadata": {},
   "outputs": [
    {
     "name": "stdout",
     "output_type": "stream",
     "text": [
      "{'took': 43, 'timed_out': False, '_shards': {'total': 1, 'successful': 1, 'skipped': 0, 'failed': 0}, 'hits': {'total': {'value': 1, 'relation': 'eq'}, 'max_score': 0.0, 'hits': [{'_index': 'searchml_ltr', '_type': '_doc', '_id': 'doc_g', '_score': 0.0, '_source': {'id': 'doc_g', 'title': 'Dog', 'body': 'Dogs rule', 'price': '5.99', 'in_stock': True, 'category': 'childrens'}, 'fields': {'_ltrlog': [{'log_entry': [{'name': 'title_query', 'value': 1.2986346}, {'name': 'body_query', 'value': 0.7342377}, {'name': 'price_func', 'value': 5.99}]}]}, 'matched_queries': ['logged_featureset']}]}}\n",
      "1\tqid:1\t1:1.2986346\t2:0.7342377\t3:5.99 # doc_g\tNone\n",
      "\n",
      "{'took': 6, 'timed_out': False, '_shards': {'total': 1, 'successful': 1, 'skipped': 0, 'failed': 0}, 'hits': {'total': {'value': 1, 'relation': 'eq'}, 'max_score': 0.0, 'hits': [{'_index': 'searchml_ltr', '_type': '_doc', '_id': 'doc_f', '_score': 0.0, '_source': {'id': 'doc_f', 'title': 'Dogs are the best', 'body': 'Dogs beat cats every day of the week and twice on Sunday. A dog is always up for doing something.  Since there are so many dog breeds, there is a dog for everyone!', 'price': '50.99', 'in_stock': True, 'category': 'childrens'}, 'fields': {'_ltrlog': [{'log_entry': [{'name': 'title_query', 'value': 1.0935872}, {'name': 'body_query', 'value': 0.7156082}, {'name': 'price_func', 'value': 50.99}]}]}, 'matched_queries': ['logged_featureset']}]}}\n",
      "1\tqid:1\t1:1.0935872\t2:0.7156082\t3:50.99 # doc_f\tNone\n",
      "\n",
      "{'took': 4, 'timed_out': False, '_shards': {'total': 1, 'successful': 1, 'skipped': 0, 'failed': 0}, 'hits': {'total': {'value': 1, 'relation': 'eq'}, 'max_score': 0.0, 'hits': [{'_index': 'searchml_ltr', '_type': '_doc', '_id': 'doc_h', '_score': 0.0, '_source': {'id': 'doc_h', 'title': 'Dog: The bounty hunter: living in the red', 'body': 'Dog is a bounty hunter who goes on pretend missions with his friends, one of whom is the Fox', 'price': '125.99', 'in_stock': True, 'category': 'sports'}, 'fields': {'_ltrlog': [{'log_entry': [{'name': 'title_query', 'value': 0.742077}, {'name': 'body_query', 'value': 0.46032518}, {'name': 'price_func', 'value': 125.99}]}]}, 'matched_queries': ['logged_featureset']}]}}\n",
      "1\tqid:1\t1:0.742077\t2:0.46032518\t3:125.99 # doc_h\tNone\n",
      "\n",
      "{'took': 6, 'timed_out': False, '_shards': {'total': 1, 'successful': 1, 'skipped': 0, 'failed': 0}, 'hits': {'total': {'value': 1, 'relation': 'eq'}, 'max_score': 0.0, 'hits': [{'_index': 'searchml_ltr', '_type': '_doc', '_id': 'doc_a', '_score': 0.0, '_source': {'id': 'doc_a', 'title': 'Fox and Hounds', 'body': 'The quick red fox jumped over the lazy brown dogs.', 'price': '5.99', 'in_stock': True, 'category': 'childrens'}, 'fields': {'_ltrlog': [{'log_entry': [{'name': 'title_query'}, {'name': 'body_query', 'value': 0.5410643}, {'name': 'price_func', 'value': 5.99}]}]}, 'matched_queries': ['logged_featureset']}]}}\n",
      "1\tqid:1\t1:0\t2:0.5410643\t3:5.99 # doc_a\tNone\n",
      "\n",
      "{'took': 4, 'timed_out': False, '_shards': {'total': 1, 'successful': 1, 'skipped': 0, 'failed': 0}, 'hits': {'total': {'value': 1, 'relation': 'eq'}, 'max_score': 0.0, 'hits': [{'_index': 'searchml_ltr', '_type': '_doc', '_id': 'doc_b', '_score': 0.0, '_source': {'id': 'doc_b', 'title': 'Fox wins championship', 'body': 'Wearing all red, the Fox jumped out to a lead in the race over the Dog.', 'price': '15.13', 'in_stock': True, 'category': 'sports'}, 'fields': {'_ltrlog': [{'log_entry': [{'name': 'title_query'}, {'name': 'body_query', 'value': 0.49743986}, {'name': 'price_func', 'value': 15.13}]}]}, 'matched_queries': ['logged_featureset']}]}}\n",
      "1\tqid:1\t1:0\t2:0.49743986\t3:15.13 # doc_b\tNone\n",
      "\n",
      "{'took': 5, 'timed_out': False, '_shards': {'total': 1, 'successful': 1, 'skipped': 0, 'failed': 0}, 'hits': {'total': {'value': 1, 'relation': 'eq'}, 'max_score': 0.0, 'hits': [{'_index': 'searchml_ltr', '_type': '_doc', '_id': 'doc_a', '_score': 0.0, '_source': {'id': 'doc_a', 'title': 'Fox and Hounds', 'body': 'The quick red fox jumped over the lazy brown dogs.', 'price': '5.99', 'in_stock': True, 'category': 'childrens'}, 'fields': {'_ltrlog': [{'log_entry': [{'name': 'title_query', 'value': 1.4831866}, {'name': 'body_query', 'value': 2.0752847}, {'name': 'price_func', 'value': 5.99}]}]}, 'matched_queries': ['logged_featureset']}]}}\n",
      "1\tqid:2\t1:1.4831866\t2:2.0752847\t3:5.99 # doc_a\tNone\n",
      "\n",
      "{'took': 4, 'timed_out': False, '_shards': {'total': 1, 'successful': 1, 'skipped': 0, 'failed': 0}, 'hits': {'total': {'value': 1, 'relation': 'eq'}, 'max_score': 0.0, 'hits': [{'_index': 'searchml_ltr', '_type': '_doc', '_id': 'doc_h', '_score': 0.0, '_source': {'id': 'doc_h', 'title': 'Dog: The bounty hunter: living in the red', 'body': 'Dog is a bounty hunter who goes on pretend missions with his friends, one of whom is the Fox', 'price': '125.99', 'in_stock': True, 'category': 'sports'}, 'fields': {'_ltrlog': [{'log_entry': [{'name': 'title_query', 'value': 1.4078112}, {'name': 'body_query', 'value': 0.8828025}, {'name': 'price_func', 'value': 125.99}]}]}, 'matched_queries': ['logged_featureset']}]}}\n",
      "1\tqid:2\t1:1.4078112\t2:0.8828025\t3:125.99 # doc_h\tNone\n",
      "\n",
      "{'took': 5, 'timed_out': False, '_shards': {'total': 1, 'successful': 1, 'skipped': 0, 'failed': 0}, 'hits': {'total': {'value': 1, 'relation': 'eq'}, 'max_score': 0.0, 'hits': [{'_index': 'searchml_ltr', '_type': '_doc', '_id': 'doc_b', '_score': 0.0, '_source': {'id': 'doc_b', 'title': 'Fox wins championship', 'body': 'Wearing all red, the Fox jumped out to a lead in the race over the Dog.', 'price': '15.13', 'in_stock': True, 'category': 'sports'}, 'fields': {'_ltrlog': [{'log_entry': [{'name': 'title_query', 'value': 1.2809337}, {'name': 'body_query', 'value': 1.9079604}, {'name': 'price_func', 'value': 15.13}]}]}, 'matched_queries': ['logged_featureset']}]}}\n",
      "1\tqid:2\t1:1.2809337\t2:1.9079604\t3:15.13 # doc_b\tNone\n",
      "\n",
      "{'took': 5, 'timed_out': False, '_shards': {'total': 1, 'successful': 1, 'skipped': 0, 'failed': 0}, 'hits': {'total': {'value': 1, 'relation': 'eq'}, 'max_score': 0.0, 'hits': [{'_index': 'searchml_ltr', '_type': '_doc', '_id': 'doc_c', '_score': 0.0, '_source': {'id': 'doc_c', 'title': 'Lead Paint Removal', 'body': 'All lead must be removed from the brown and red paint.', 'price': '150.21', 'in_stock': False, 'category': 'instructional'}, 'fields': {'_ltrlog': [{'log_entry': [{'name': 'title_query'}, {'name': 'body_query', 'value': 1.0376424}, {'name': 'price_func', 'value': 150.21}]}]}, 'matched_queries': ['logged_featureset']}]}}\n",
      "0\tqid:2\t1:0\t2:1.0376424\t3:150.21 # doc_c\tNone\n",
      "\n",
      "{'took': 5, 'timed_out': False, '_shards': {'total': 1, 'successful': 1, 'skipped': 0, 'failed': 0}, 'hits': {'total': {'value': 1, 'relation': 'eq'}, 'max_score': 0.0, 'hits': [{'_index': 'searchml_ltr', '_type': '_doc', '_id': 'doc_d', '_score': 0.0, '_source': {'id': 'doc_d', 'title': 'The Three Little Pigs Revisited', 'price': '3.51', 'in_stock': True, 'body': 'The big, bad wolf huffed and puffed and blew the house down. The end.', 'category': 'childrens'}, 'fields': {'_ltrlog': [{'log_entry': [{'name': 'title_query', 'value': 1.1272218}, {'name': 'body_query', 'value': 5.657528}, {'name': 'price_func', 'value': 3.51}]}]}, 'matched_queries': ['logged_featureset']}]}}\n",
      "1\tqid:3\t1:1.1272218\t2:5.657528\t3:3.51 # doc_d\tNone\n",
      "\n",
      "{'took': 5, 'timed_out': False, '_shards': {'total': 1, 'successful': 1, 'skipped': 0, 'failed': 0}, 'hits': {'total': {'value': 1, 'relation': 'eq'}, 'max_score': 0.0, 'hits': [{'_index': 'searchml_ltr', '_type': '_doc', '_id': 'doc_e', '_score': 0.0, '_source': {'id': 'doc_e', 'title': 'Pigs in a Blanket and Other Recipes', 'price': '27.50', 'in_stock': True, 'body': \"Pigs in a blanket aren't as cute as you would think given it's a food and not actual pigs wrapped in blankets.\", 'category': 'instructional'}, 'fields': {'_ltrlog': [{'log_entry': [{'name': 'title_query', 'value': 1.1272218}, {'name': 'body_query', 'value': 2.2908108}, {'name': 'price_func', 'value': 27.5}]}]}, 'matched_queries': ['logged_featureset']}]}}\n",
      "0\tqid:3\t1:1.1272218\t2:2.2908108\t3:27.5 # doc_e\tNone\n",
      "\n"
     ]
    }
   ],
   "source": [
    "train_file = tempfile.NamedTemporaryFile(delete=False)\n",
    "# Log our features by sending our query and it's judged documents to OpenSearch\n",
    "for (idx, item) in enumerate(judgments.items()):\n",
    "    judge_vals = item[1]\n",
    "    # create a new SLTR query with an appropriate filter query\n",
    "    doc_ids = []\n",
    "    for judgment in judge_vals:\n",
    "        # Note: we are executing one query per judgment doc id here because it's easier, but we could do this\n",
    "        # by adding all the doc ids for this query and scoring them all at once and cut our number of queries down\n",
    "        # significantly\n",
    "        # Create our SLTR query, filtering so we only retrieve the doc id in question\n",
    "        query_obj = {\n",
    "            'query': {\n",
    "                'bool': {\n",
    "                    \"filter\": [  # use a filter so that we don't actually score anything\n",
    "                        {\n",
    "                            \"terms\": {\n",
    "                                \"_id\": [judgment.doc_id]\n",
    "                            }\n",
    "                        },\n",
    "                        {  # use the LTR query bring in the LTR feature set\n",
    "                            \"sltr\": {\n",
    "                                \"_name\": \"logged_featureset\",\n",
    "                                \"featureset\": featureset_name,\n",
    "                                \"store\": ltr_store_name,\n",
    "                                \"params\": {\n",
    "                                    \"keywords\": queries[judgment.query]\n",
    "                                }\n",
    "                            }\n",
    "                        }\n",
    "                    ]\n",
    "                }\n",
    "            },\n",
    "            # Turn on feature logging so that we get weights back for our features\n",
    "            \"ext\": {\n",
    "                \"ltr_log\": {\n",
    "                    \"log_specs\": {\n",
    "                        \"name\": \"log_entry\",\n",
    "                        \"named_query\": \"logged_featureset\"\n",
    "                    }\n",
    "                }\n",
    "            }\n",
    "        }\n",
    "        # Run the query just like any other search\n",
    "        response = client.search(body=query_obj, index=index_name)\n",
    "        print(response)\n",
    "        # For each response, extract out the features and build our training features\n",
    "        # We are going to do this by iterating through the hits, which should be in doc_ids order and put the\n",
    "        # values back onto the Judgment object, which has a place to store these.\n",
    "        if response and len(response['hits']) > 0 and len(response['hits']['hits']) == 1:\n",
    "            hits = response['hits']['hits']\n",
    "            # there should only be one hit\n",
    "            judgment.features = hits[0]['fields']['_ltrlog'][0]['log_entry']\n",
    "            # \t\t<grade> qid:<query_id> <feature_number>:<weight>... # <doc_id> <comments>\n",
    "            # see https://xgboost.readthedocs.io/en/latest/tutorials/input_format.html\n",
    "            xgb_format = judgment.toXGBFormat() + \"\\n\"\n",
    "            print(xgb_format)\n",
    "            train_file.write(bytes(xgb_format, 'utf-8'))\n",
    "        else:\n",
    "            print(\"Weirdness. Fix\")\n",
    "\n",
    "train_file.close()\n",
    "\n"
   ]
  },
  {
   "cell_type": "code",
   "execution_count": 19,
   "id": "9d5d9f20",
   "metadata": {},
   "outputs": [
    {
     "data": {
      "text/plain": [
       "'/tmp/tmph207f2v6'"
      ]
     },
     "execution_count": 19,
     "metadata": {},
     "output_type": "execute_result"
    }
   ],
   "source": [
    "train_file.name"
   ]
  },
  {
   "cell_type": "code",
   "execution_count": 20,
   "id": "b6174fd6",
   "metadata": {},
   "outputs": [
    {
     "name": "stdout",
     "output_type": "stream",
     "text": [
      "1\tqid:1\t1:1.2986346\t2:0.7342377\t3:5.99 # doc_g\tNone\r\n",
      "1\tqid:1\t1:1.0935872\t2:0.7156082\t3:50.99 # doc_f\tNone\r\n",
      "1\tqid:1\t1:0.742077\t2:0.46032518\t3:125.99 # doc_h\tNone\r\n",
      "1\tqid:1\t1:0\t2:0.5410643\t3:5.99 # doc_a\tNone\r\n",
      "1\tqid:1\t1:0\t2:0.49743986\t3:15.13 # doc_b\tNone\r\n",
      "1\tqid:2\t1:1.4831866\t2:2.0752847\t3:5.99 # doc_a\tNone\r\n",
      "1\tqid:2\t1:1.4078112\t2:0.8828025\t3:125.99 # doc_h\tNone\r\n",
      "1\tqid:2\t1:1.2809337\t2:1.9079604\t3:15.13 # doc_b\tNone\r\n",
      "0\tqid:2\t1:0\t2:1.0376424\t3:150.21 # doc_c\tNone\r\n",
      "1\tqid:3\t1:1.1272218\t2:5.657528\t3:3.51 # doc_d\tNone\r\n",
      "0\tqid:3\t1:1.1272218\t2:2.2908108\t3:27.5 # doc_e\tNone\r\n"
     ]
    }
   ],
   "source": [
    "!cat /tmp/tmph207f2v6"
   ]
  },
  {
   "cell_type": "code",
   "execution_count": 28,
   "id": "03bb5568",
   "metadata": {},
   "outputs": [],
   "source": [
    "from pprint import pprint\n"
   ]
  },
  {
   "cell_type": "code",
   "execution_count": 32,
   "id": "6e5059bd",
   "metadata": {},
   "outputs": [
    {
     "name": "stdout",
     "output_type": "stream",
     "text": [
      "{'display_name': 'Fox and Hounds',\n",
      " 'doc_id': 'doc_a',\n",
      " 'features': [{'name': 'title_query', 'value': 1.4831866},\n",
      "              {'name': 'body_query', 'value': 2.0752847},\n",
      "              {'name': 'price_func', 'value': 5.99}],\n",
      " 'grade': 1,\n",
      " 'query': 2,\n",
      " 'query_str': None}\n",
      "{'display_name': 'Dog: The bounty hunter: living in the red',\n",
      " 'doc_id': 'doc_h',\n",
      " 'features': [{'name': 'title_query', 'value': 1.4078112},\n",
      "              {'name': 'body_query', 'value': 0.8828025},\n",
      "              {'name': 'price_func', 'value': 125.99}],\n",
      " 'grade': 1,\n",
      " 'query': 2,\n",
      " 'query_str': None}\n",
      "{'display_name': 'Fox wins championship',\n",
      " 'doc_id': 'doc_b',\n",
      " 'features': [{'name': 'title_query', 'value': 1.2809337},\n",
      "              {'name': 'body_query', 'value': 1.9079604},\n",
      "              {'name': 'price_func', 'value': 15.13}],\n",
      " 'grade': 1,\n",
      " 'query': 2,\n",
      " 'query_str': None}\n",
      "{'display_name': 'Lead Paint Removal',\n",
      " 'doc_id': 'doc_c',\n",
      " 'features': [{'name': 'title_query'},\n",
      "              {'name': 'body_query', 'value': 1.0376424},\n",
      "              {'name': 'price_func', 'value': 150.21}],\n",
      " 'grade': 0,\n",
      " 'query': 2,\n",
      " 'query_str': None}\n"
     ]
    },
    {
     "data": {
      "text/plain": [
       "[None, None, None, None]"
      ]
     },
     "execution_count": 32,
     "metadata": {},
     "output_type": "execute_result"
    }
   ],
   "source": [
    "[pprint(vars(j)) for j in judgments[2]]"
   ]
  },
  {
   "cell_type": "code",
   "execution_count": 33,
   "id": "4e2c5539",
   "metadata": {},
   "outputs": [],
   "source": [
    "feat_map_file = tempfile.NamedTemporaryFile(delete=False)\n",
    "feat_map_file.write(bytes(\"0\\tna\\tq\\n\", \"utf-8\"))\n",
    "feat_map_file.write(bytes('1\\t{}\\tq\\n'.format(title_query_feature_name), 'utf-8'))\n",
    "feat_map_file.write(bytes('2\\t{}\\tq\\n'.format(body_query_feature_name), 'utf-8'))\n",
    "feat_map_file.write(bytes('3\\t{}\\tq\\n'.format(price_func_feature_name), 'utf-8'))\n",
    "feat_map_file.close()"
   ]
  },
  {
   "cell_type": "code",
   "execution_count": 35,
   "id": "fe16eaf9",
   "metadata": {},
   "outputs": [
    {
     "name": "stdout",
     "output_type": "stream",
     "text": [
      "0\tna\tq\r\n",
      "1\ttitle_query\tq\r\n",
      "2\tbody_query\tq\r\n",
      "3\tprice_func\tq\r\n"
     ]
    }
   ],
   "source": [
    "!cat /tmp/tmpysuvv0ts"
   ]
  },
  {
   "cell_type": "code",
   "execution_count": 36,
   "id": "6be18e8e",
   "metadata": {},
   "outputs": [
    {
     "name": "stdout",
     "output_type": "stream",
     "text": [
      "Training XG Boost\n",
      "[15:05:07] WARNING: ../src/objective/regression_obj.cu:203: reg:linear is now deprecated in favor of reg:squarederror.\n",
      "[15:05:07] WARNING: ../src/learner.cc:627: \n",
      "Parameters: { \"silent\" } might not be used.\n",
      "\n",
      "  This could be a false alarm, with some parameters getting used by language bindings but\n",
      "  then being mistakenly passed down to XGBoost core, or some parameter actually being used\n",
      "  but getting flagged wrongly here. Please open an issue if you find any such cases.\n",
      "\n",
      "\n"
     ]
    }
   ],
   "source": [
    "dtrain = xgb.DMatrix(train_file.name)\n",
    "param = {'max_depth': 5,  'silent': 1, 'objective': 'reg:linear'}\n",
    "num_round = 5\n",
    "print(\"Training XG Boost\")\n",
    "bst = xgb.train(param, dtrain,\n",
    "                num_round)  # Do the training.  NOTE: in this toy example we did not use any hold out data\n",
    "model = bst.get_dump(fmap=feat_map_file.name, dump_format='json')"
   ]
  },
  {
   "cell_type": "code",
   "execution_count": 37,
   "id": "7753e572",
   "metadata": {},
   "outputs": [
    {
     "name": "stdout",
     "output_type": "stream",
     "text": [
      "[  { \"nodeid\": 0, \"depth\": 0, \"split\": \"price_func\", \"split_condition\": 138.100006, \"yes\": 1, \"no\": 2, \"missing\": 1 , \"children\": [\n",
      "    { \"nodeid\": 1, \"depth\": 1, \"split\": \"body_query\", \"split_condition\": 2.18304777, \"yes\": 3, \"no\": 4, \"missing\": 3 , \"children\": [\n",
      "      { \"nodeid\": 3, \"leaf\": 0.13333334 }, \n",
      "      { \"nodeid\": 4, \"depth\": 2, \"split\": \"body_query\", \"split_condition\": 3.97416925, \"yes\": 5, \"no\": 6, \"missing\": 5 , \"children\": [\n",
      "        { \"nodeid\": 5, \"leaf\": -0.075000003 }, \n",
      "        { \"nodeid\": 6, \"leaf\": 0.075000003 }\n",
      "      ]}\n",
      "    ]}, \n",
      "    { \"nodeid\": 2, \"leaf\": -0.075000003 }\n",
      "  ]},  { \"nodeid\": 0, \"depth\": 0, \"split\": \"price_func\", \"split_condition\": 138.100006, \"yes\": 1, \"no\": 2, \"missing\": 1 , \"children\": [\n",
      "    { \"nodeid\": 1, \"depth\": 1, \"split\": \"body_query\", \"split_condition\": 2.18304777, \"yes\": 3, \"no\": 4, \"missing\": 3 , \"children\": [\n",
      "      { \"nodeid\": 3, \"leaf\": 0.0977777913 }, \n",
      "      { \"nodeid\": 4, \"depth\": 2, \"split\": \"body_query\", \"split_condition\": 3.97416925, \"yes\": 5, \"no\": 6, \"missing\": 5 , \"children\": [\n",
      "        { \"nodeid\": 5, \"leaf\": -0.0637500063 }, \n",
      "        { \"nodeid\": 6, \"leaf\": 0.0637500063 }\n",
      "      ]}\n",
      "    ]}, \n",
      "    { \"nodeid\": 2, \"leaf\": -0.0637500063 }\n",
      "  ]},  { \"nodeid\": 0, \"depth\": 0, \"split\": \"price_func\", \"split_condition\": 138.100006, \"yes\": 1, \"no\": 2, \"missing\": 1 , \"children\": [\n",
      "    { \"nodeid\": 1, \"depth\": 1, \"split\": \"body_query\", \"split_condition\": 2.18304777, \"yes\": 3, \"no\": 4, \"missing\": 3 , \"children\": [\n",
      "      { \"nodeid\": 3, \"leaf\": 0.0717037097 }, \n",
      "      { \"nodeid\": 4, \"depth\": 2, \"split\": \"body_query\", \"split_condition\": 3.97416925, \"yes\": 5, \"no\": 6, \"missing\": 5 , \"children\": [\n",
      "        { \"nodeid\": 5, \"leaf\": -0.0541875027 }, \n",
      "        { \"nodeid\": 6, \"leaf\": 0.054187499 }\n",
      "      ]}\n",
      "    ]}, \n",
      "    { \"nodeid\": 2, \"leaf\": -0.0541875027 }\n",
      "  ]},  { \"nodeid\": 0, \"depth\": 0, \"split\": \"price_func\", \"split_condition\": 138.100006, \"yes\": 1, \"no\": 2, \"missing\": 1 , \"children\": [\n",
      "    { \"nodeid\": 1, \"depth\": 1, \"split\": \"body_query\", \"split_condition\": 2.18304777, \"yes\": 3, \"no\": 4, \"missing\": 3 , \"children\": [\n",
      "      { \"nodeid\": 3, \"leaf\": 0.052582711 }, \n",
      "      { \"nodeid\": 4, \"depth\": 2, \"split\": \"body_query\", \"split_condition\": 3.97416925, \"yes\": 5, \"no\": 6, \"missing\": 5 , \"children\": [\n",
      "        { \"nodeid\": 5, \"leaf\": -0.0460593775 }, \n",
      "        { \"nodeid\": 6, \"leaf\": 0.0460593775 }\n",
      "      ]}\n",
      "    ]}, \n",
      "    { \"nodeid\": 2, \"leaf\": -0.0460593775 }\n",
      "  ]},  { \"nodeid\": 0, \"depth\": 0, \"split\": \"price_func\", \"split_condition\": 138.100006, \"yes\": 1, \"no\": 2, \"missing\": 1 , \"children\": [\n",
      "    { \"nodeid\": 1, \"depth\": 1, \"split\": \"body_query\", \"split_condition\": 2.18304777, \"yes\": 3, \"no\": 4, \"missing\": 3 , \"children\": [\n",
      "      { \"nodeid\": 3, \"leaf\": 0.0385606438 }, \n",
      "      { \"nodeid\": 4, \"depth\": 2, \"split\": \"body_query\", \"split_condition\": 3.97416925, \"yes\": 5, \"no\": 6, \"missing\": 5 , \"children\": [\n",
      "        { \"nodeid\": 5, \"leaf\": -0.0391504727 }, \n",
      "        { \"nodeid\": 6, \"leaf\": 0.0391504727 }\n",
      "      ]}\n",
      "    ]}, \n",
      "    { \"nodeid\": 2, \"leaf\": -0.0391504727 }\n",
      "  ]}]\n"
     ]
    }
   ],
   "source": [
    "# We need to escape entries for uploading to OpenSearch, per the docs\n",
    "model_str = '[' + ','.join(list(model)) + ']'\n",
    "print(model_str)"
   ]
  },
  {
   "cell_type": "code",
   "execution_count": 38,
   "id": "9ab8456d",
   "metadata": {},
   "outputs": [],
   "source": [
    "# Create our metadata for uploading the model\n",
    "model_name = \"ltr_toy_model\"\n",
    "\n",
    "os_model = {\n",
    "    \"model\": {\n",
    "        \"name\": model_name,\n",
    "        \"model\": {\n",
    "            \"type\": \"model/xgboost+json\",\n",
    "            \"definition\": '{\"objective\":\"reg:linear\", \"splits\":' + model_str + '}'\n",
    "        }\n",
    "    }\n",
    "}"
   ]
  },
  {
   "cell_type": "code",
   "execution_count": 40,
   "id": "875852fe",
   "metadata": {},
   "outputs": [
    {
     "name": "stdout",
     "output_type": "stream",
     "text": [
      "Uploading our model to https://localhost:9200/_ltr/searchml_ltr/_featureset/ltr_toy/_createmodel\n",
      "\tResponse: <Response [201]>\n"
     ]
    }
   ],
   "source": [
    "model_path = urljoin(featureset_path + \"/\", \"_createmodel\")\n",
    "print(\"Uploading our model to %s\" % model_path)\n",
    "response = requests.post(model_path, data=json.dumps(os_model), headers=headers, auth=auth, verify=False)\n",
    "print(\"\\tResponse: %s\" % response)"
   ]
  },
  {
   "cell_type": "code",
   "execution_count": 41,
   "id": "770a3e5f",
   "metadata": {},
   "outputs": [
    {
     "name": "stdout",
     "output_type": "stream",
     "text": [
      "Search with baseline\n",
      "Response:\n",
      "{\n",
      " \"took\": 3,\n",
      " \"timed_out\": false,\n",
      " \"_shards\": {\n",
      "  \"total\": 1,\n",
      "  \"successful\": 1,\n",
      "  \"skipped\": 0,\n",
      "  \"failed\": 0\n",
      " },\n",
      " \"hits\": {\n",
      "  \"total\": {\n",
      "   \"value\": 5,\n",
      "   \"relation\": \"eq\"\n",
      "  },\n",
      "  \"max_score\": 2.5972693,\n",
      "  \"hits\": [\n",
      "   {\n",
      "    \"_index\": \"searchml_ltr\",\n",
      "    \"_type\": \"_doc\",\n",
      "    \"_id\": \"doc_g\",\n",
      "    \"_score\": 2.5972693,\n",
      "    \"_source\": {\n",
      "     \"id\": \"doc_g\",\n",
      "     \"title\": \"Dog\",\n",
      "     \"body\": \"Dogs rule\",\n",
      "     \"price\": \"5.99\",\n",
      "     \"in_stock\": true,\n",
      "     \"category\": \"childrens\"\n",
      "    }\n",
      "   },\n",
      "   {\n",
      "    \"_index\": \"searchml_ltr\",\n",
      "    \"_type\": \"_doc\",\n",
      "    \"_id\": \"doc_f\",\n",
      "    \"_score\": 2.1871743,\n",
      "    \"_source\": {\n",
      "     \"id\": \"doc_f\",\n",
      "     \"title\": \"Dogs are the best\",\n",
      "     \"body\": \"Dogs beat cats every day of the week and twice on Sunday. A dog is always up for doing something.  Since there are so many dog breeds, there is a dog for everyone!\",\n",
      "     \"price\": \"50.99\",\n",
      "     \"in_stock\": true,\n",
      "     \"category\": \"childrens\"\n",
      "    }\n",
      "   },\n",
      "   {\n",
      "    \"_index\": \"searchml_ltr\",\n",
      "    \"_type\": \"_doc\",\n",
      "    \"_id\": \"doc_h\",\n",
      "    \"_score\": 1.484154,\n",
      "    \"_source\": {\n",
      "     \"id\": \"doc_h\",\n",
      "     \"title\": \"Dog: The bounty hunter: living in the red\",\n",
      "     \"body\": \"Dog is a bounty hunter who goes on pretend missions with his friends, one of whom is the Fox\",\n",
      "     \"price\": \"125.99\",\n",
      "     \"in_stock\": true,\n",
      "     \"category\": \"sports\"\n",
      "    }\n",
      "   },\n",
      "   {\n",
      "    \"_index\": \"searchml_ltr\",\n",
      "    \"_type\": \"_doc\",\n",
      "    \"_id\": \"doc_a\",\n",
      "    \"_score\": 0.5410643,\n",
      "    \"_source\": {\n",
      "     \"id\": \"doc_a\",\n",
      "     \"title\": \"Fox and Hounds\",\n",
      "     \"body\": \"The quick red fox jumped over the lazy brown dogs.\",\n",
      "     \"price\": \"5.99\",\n",
      "     \"in_stock\": true,\n",
      "     \"category\": \"childrens\"\n",
      "    }\n",
      "   },\n",
      "   {\n",
      "    \"_index\": \"searchml_ltr\",\n",
      "    \"_type\": \"_doc\",\n",
      "    \"_id\": \"doc_b\",\n",
      "    \"_score\": 0.49743986,\n",
      "    \"_source\": {\n",
      "     \"id\": \"doc_b\",\n",
      "     \"title\": \"Fox wins championship\",\n",
      "     \"body\": \"Wearing all red, the Fox jumped out to a lead in the race over the Dog.\",\n",
      "     \"price\": \"15.13\",\n",
      "     \"in_stock\": true,\n",
      "     \"category\": \"sports\"\n",
      "    }\n",
      "   }\n",
      "  ]\n",
      " }\n",
      "}\n"
     ]
    }
   ],
   "source": [
    "print(\"Search with baseline\")\n",
    "query_obj = {\n",
    "    'query': {\n",
    "        'multi_match': {\n",
    "            'query': queries[1],\n",
    "            'fields': ['title^2', 'body']\n",
    "        }\n",
    "    },\n",
    "}\n",
    "response = client.search(body=query_obj, index=index_name)\n",
    "print(\"Response:\\n%s\" % json.dumps(response, indent=True))"
   ]
  },
  {
   "cell_type": "code",
   "execution_count": 42,
   "id": "d441afd1",
   "metadata": {},
   "outputs": [
    {
     "name": "stdout",
     "output_type": "stream",
     "text": [
      "Search with LTR\n",
      "Response:\n",
      "{\n",
      " \"took\": 12,\n",
      " \"timed_out\": false,\n",
      " \"_shards\": {\n",
      "  \"total\": 1,\n",
      "  \"successful\": 1,\n",
      "  \"skipped\": 0,\n",
      "  \"failed\": 0\n",
      " },\n",
      " \"hits\": {\n",
      "  \"total\": {\n",
      "   \"value\": 5,\n",
      "   \"relation\": \"eq\"\n",
      "  },\n",
      "  \"max_score\": 3.3851857,\n",
      "  \"hits\": [\n",
      "   {\n",
      "    \"_index\": \"searchml_ltr\",\n",
      "    \"_type\": \"_doc\",\n",
      "    \"_id\": \"doc_g\",\n",
      "    \"_score\": 3.3851857,\n",
      "    \"_source\": {\n",
      "     \"id\": \"doc_g\",\n",
      "     \"title\": \"Dog\",\n",
      "     \"body\": \"Dogs rule\",\n",
      "     \"price\": \"5.99\",\n",
      "     \"in_stock\": true,\n",
      "     \"category\": \"childrens\"\n",
      "    }\n",
      "   },\n",
      "   {\n",
      "    \"_index\": \"searchml_ltr\",\n",
      "    \"_type\": \"_doc\",\n",
      "    \"_id\": \"doc_f\",\n",
      "    \"_score\": 2.9750907,\n",
      "    \"_source\": {\n",
      "     \"id\": \"doc_f\",\n",
      "     \"title\": \"Dogs are the best\",\n",
      "     \"body\": \"Dogs beat cats every day of the week and twice on Sunday. A dog is always up for doing something.  Since there are so many dog breeds, there is a dog for everyone!\",\n",
      "     \"price\": \"50.99\",\n",
      "     \"in_stock\": true,\n",
      "     \"category\": \"childrens\"\n",
      "    }\n",
      "   },\n",
      "   {\n",
      "    \"_index\": \"searchml_ltr\",\n",
      "    \"_type\": \"_doc\",\n",
      "    \"_id\": \"doc_h\",\n",
      "    \"_score\": 2.2720704,\n",
      "    \"_source\": {\n",
      "     \"id\": \"doc_h\",\n",
      "     \"title\": \"Dog: The bounty hunter: living in the red\",\n",
      "     \"body\": \"Dog is a bounty hunter who goes on pretend missions with his friends, one of whom is the Fox\",\n",
      "     \"price\": \"125.99\",\n",
      "     \"in_stock\": true,\n",
      "     \"category\": \"sports\"\n",
      "    }\n",
      "   },\n",
      "   {\n",
      "    \"_index\": \"searchml_ltr\",\n",
      "    \"_type\": \"_doc\",\n",
      "    \"_id\": \"doc_a\",\n",
      "    \"_score\": 1.3289807,\n",
      "    \"_source\": {\n",
      "     \"id\": \"doc_a\",\n",
      "     \"title\": \"Fox and Hounds\",\n",
      "     \"body\": \"The quick red fox jumped over the lazy brown dogs.\",\n",
      "     \"price\": \"5.99\",\n",
      "     \"in_stock\": true,\n",
      "     \"category\": \"childrens\"\n",
      "    }\n",
      "   },\n",
      "   {\n",
      "    \"_index\": \"searchml_ltr\",\n",
      "    \"_type\": \"_doc\",\n",
      "    \"_id\": \"doc_b\",\n",
      "    \"_score\": 1.2853563,\n",
      "    \"_source\": {\n",
      "     \"id\": \"doc_b\",\n",
      "     \"title\": \"Fox wins championship\",\n",
      "     \"body\": \"Wearing all red, the Fox jumped out to a lead in the race over the Dog.\",\n",
      "     \"price\": \"15.13\",\n",
      "     \"in_stock\": true,\n",
      "     \"category\": \"sports\"\n",
      "    }\n",
      "   }\n",
      "  ]\n",
      " }\n",
      "}\n"
     ]
    }
   ],
   "source": [
    "print(\"Search with LTR\")\n",
    "\n",
    "query_obj[\"rescore\"] = {\n",
    "    \"window_size\": 10,\n",
    "    \"query\": {\n",
    "        \"rescore_query\": {\n",
    "            \"sltr\": {\n",
    "                \"params\": {\n",
    "                    \"keywords\": queries[1]\n",
    "                },\n",
    "                \"model\": model_name,\n",
    "                # Since we are using a named store, as opposed to simply '_ltr', we need to pass it in\n",
    "                \"store\": ltr_store_name,\n",
    "                \"active_features\": [title_query_feature_name, body_query_feature_name, price_func_feature_name]\n",
    "            }\n",
    "        },\n",
    "        \"rescore_query_weight\": \"2\" # Magic number, but let's say LTR matches are 2x baseline matches\n",
    "    }\n",
    "}\n",
    "response = client.search(body=query_obj, index=index_name)\n",
    "print(\"Response:\\n%s\" % json.dumps(response, indent=True))"
   ]
  },
  {
   "cell_type": "code",
   "execution_count": 43,
   "id": "040c8192",
   "metadata": {},
   "outputs": [
    {
     "data": {
      "image/png": "[encoded data removed]",
      "text/plain": [
       "<Figure size 432x288 with 1 Axes>"
      ]
     },
     "metadata": {
      "needs_background": "light"
     },
     "output_type": "display_data"
    }
   ],
   "source": [
    "model_plot = plot_tree(bst, feat_map_file.name)\n",
    "model_plot.figure.savefig(\"ltr_toy_model.png\")\n",
    "\n",
    "plt.show()"
   ]
  },
  {
   "cell_type": "code",
   "execution_count": null,
   "id": "8f9c4b68",
   "metadata": {},
   "outputs": [],
   "source": []
  },
  {
   "cell_type": "code",
   "execution_count": null,
   "id": "f7610c07",
   "metadata": {},
   "outputs": [],
   "source": []
  },
  {
   "cell_type": "code",
   "execution_count": null,
   "id": "4995f1f9",
   "metadata": {},
   "outputs": [],
   "source": []
  },
  {
   "cell_type": "code",
   "execution_count": null,
   "id": "15f7fb78",
   "metadata": {},
   "outputs": [],
   "source": []
  },
  {
   "cell_type": "code",
   "execution_count": null,
   "id": "b3532e5c",
   "metadata": {},
   "outputs": [],
   "source": []
  },
  {
   "cell_type": "code",
   "execution_count": null,
   "id": "d6296467",
   "metadata": {},
   "outputs": [],
   "source": []
  }
 ],
 "metadata": {
  "kernelspec": {
   "display_name": "Python 3 (ipykernel)",
   "language": "python",
   "name": "python3"
  },
  "language_info": {
   "codemirror_mode": {
    "name": "ipython",
    "version": 3
   },
   "file_extension": ".py",
   "mimetype": "text/x-python",
   "name": "python",
   "nbconvert_exporter": "python",
   "pygments_lexer": "ipython3",
   "version": "3.9.7"
  }
 },
 "nbformat": 4,
 "nbformat_minor": 5
}
