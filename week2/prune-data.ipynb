{
 "cells": [
  {
   "cell_type": "code",
   "execution_count": 1,
   "id": "17399d33",
   "metadata": {},
   "outputs": [],
   "source": [
    "import pandas as pd"
   ]
  },
  {
   "cell_type": "code",
   "execution_count": 2,
   "id": "5beea073",
   "metadata": {},
   "outputs": [
    {
     "name": "stdout",
     "output_type": "stream",
     "text": [
      "115503\r\n"
     ]
    }
   ],
   "source": [
    "!cat /workspace/datasets/fasttext/labeled_products.txt | wc -l"
   ]
  },
  {
   "cell_type": "code",
   "execution_count": 3,
   "id": "b2d038f4",
   "metadata": {},
   "outputs": [],
   "source": [
    "df = pd.DataFrame(columns=['label', 'product'])"
   ]
  },
  {
   "cell_type": "code",
   "execution_count": 4,
   "id": "14862098",
   "metadata": {},
   "outputs": [],
   "source": [
    "rows = []"
   ]
  },
  {
   "cell_type": "code",
   "execution_count": 5,
   "id": "4e5516d2",
   "metadata": {},
   "outputs": [],
   "source": [
    "with open('/workspace/datasets/fasttext/labeled_products.txt') as f:\n",
    "    for line in f:\n",
    "        label, product = line.split(' ', 1)\n",
    "        rows.append({'label': label, 'product': product})\n",
    "        if len(rows) >= 1000:\n",
    "            df = pd.concat([df, pd.DataFrame.from_records(rows)])\n",
    "            del(rows)\n",
    "            rows = []\n",
    "df = pd.concat([df, pd.DataFrame.from_records(rows)])"
   ]
  },
  {
   "cell_type": "code",
   "execution_count": 6,
   "id": "27b456f5",
   "metadata": {},
   "outputs": [
    {
     "data": {
      "text/plain": [
       "115503"
      ]
     },
     "execution_count": 6,
     "metadata": {},
     "output_type": "execute_result"
    }
   ],
   "source": [
    "len(df)"
   ]
  },
  {
   "cell_type": "code",
   "execution_count": 7,
   "id": "63c49c43",
   "metadata": {},
   "outputs": [
    {
     "data": {
      "text/html": [
       "<div>\n",
       "<style scoped>\n",
       "    .dataframe tbody tr th:only-of-type {\n",
       "        vertical-align: middle;\n",
       "    }\n",
       "\n",
       "    .dataframe tbody tr th {\n",
       "        vertical-align: top;\n",
       "    }\n",
       "\n",
       "    .dataframe thead th {\n",
       "        text-align: right;\n",
       "    }\n",
       "</style>\n",
       "<table border=\"1\" class=\"dataframe\">\n",
       "  <thead>\n",
       "    <tr style=\"text-align: right;\">\n",
       "      <th></th>\n",
       "      <th>label</th>\n",
       "      <th>product</th>\n",
       "    </tr>\n",
       "  </thead>\n",
       "  <tbody>\n",
       "    <tr>\n",
       "      <th>0</th>\n",
       "      <td>__label__abcat0107029</td>\n",
       "      <td>Recoton - 1/8\" Mini Stereo 3.5mm Y Adapter\\n</td>\n",
       "    </tr>\n",
       "    <tr>\n",
       "      <th>1</th>\n",
       "      <td>__label__abcat0202007</td>\n",
       "      <td>Panasonic - Technics Quartz Synthesizer Direct...</td>\n",
       "    </tr>\n",
       "    <tr>\n",
       "      <th>2</th>\n",
       "      <td>__label__abcat0908001</td>\n",
       "      <td>Holmes - Replacement Filter for Select Holmes ...</td>\n",
       "    </tr>\n",
       "    <tr>\n",
       "      <th>3</th>\n",
       "      <td>__label__abcat0107031</td>\n",
       "      <td>Monster Cable - 10' Pair of 10-Gauge Speaker W...</td>\n",
       "    </tr>\n",
       "    <tr>\n",
       "      <th>4</th>\n",
       "      <td>__label__pcmcat223000050008</td>\n",
       "      <td>Pioneer - 4\" 3-Way Surface-Mount Speakers with...</td>\n",
       "    </tr>\n",
       "  </tbody>\n",
       "</table>\n",
       "</div>"
      ],
      "text/plain": [
       "                         label  \\\n",
       "0        __label__abcat0107029   \n",
       "1        __label__abcat0202007   \n",
       "2        __label__abcat0908001   \n",
       "3        __label__abcat0107031   \n",
       "4  __label__pcmcat223000050008   \n",
       "\n",
       "                                             product  \n",
       "0       Recoton - 1/8\" Mini Stereo 3.5mm Y Adapter\\n  \n",
       "1  Panasonic - Technics Quartz Synthesizer Direct...  \n",
       "2  Holmes - Replacement Filter for Select Holmes ...  \n",
       "3  Monster Cable - 10' Pair of 10-Gauge Speaker W...  \n",
       "4  Pioneer - 4\" 3-Way Surface-Mount Speakers with...  "
      ]
     },
     "execution_count": 7,
     "metadata": {},
     "output_type": "execute_result"
    }
   ],
   "source": [
    "df.head()"
   ]
  },
  {
   "cell_type": "code",
   "execution_count": 8,
   "id": "21b7907d",
   "metadata": {},
   "outputs": [],
   "source": [
    "df_gblc = df.groupby('label', as_index=False).count()"
   ]
  },
  {
   "cell_type": "code",
   "execution_count": 9,
   "id": "3e144b6a",
   "metadata": {},
   "outputs": [
    {
     "data": {
      "text/html": [
       "<div>\n",
       "<style scoped>\n",
       "    .dataframe tbody tr th:only-of-type {\n",
       "        vertical-align: middle;\n",
       "    }\n",
       "\n",
       "    .dataframe tbody tr th {\n",
       "        vertical-align: top;\n",
       "    }\n",
       "\n",
       "    .dataframe thead th {\n",
       "        text-align: right;\n",
       "    }\n",
       "</style>\n",
       "<table border=\"1\" class=\"dataframe\">\n",
       "  <thead>\n",
       "    <tr style=\"text-align: right;\">\n",
       "      <th></th>\n",
       "      <th>label</th>\n",
       "      <th>product</th>\n",
       "    </tr>\n",
       "  </thead>\n",
       "  <tbody>\n",
       "    <tr>\n",
       "      <th>0</th>\n",
       "      <td>__label__abcat0011000</td>\n",
       "      <td>12</td>\n",
       "    </tr>\n",
       "    <tr>\n",
       "      <th>1</th>\n",
       "      <td>__label__abcat0011001</td>\n",
       "      <td>8</td>\n",
       "    </tr>\n",
       "    <tr>\n",
       "      <th>2</th>\n",
       "      <td>__label__abcat0011002</td>\n",
       "      <td>2</td>\n",
       "    </tr>\n",
       "    <tr>\n",
       "      <th>3</th>\n",
       "      <td>__label__abcat0011003</td>\n",
       "      <td>8</td>\n",
       "    </tr>\n",
       "    <tr>\n",
       "      <th>4</th>\n",
       "      <td>__label__abcat0011004</td>\n",
       "      <td>1</td>\n",
       "    </tr>\n",
       "  </tbody>\n",
       "</table>\n",
       "</div>"
      ],
      "text/plain": [
       "                   label  product\n",
       "0  __label__abcat0011000       12\n",
       "1  __label__abcat0011001        8\n",
       "2  __label__abcat0011002        2\n",
       "3  __label__abcat0011003        8\n",
       "4  __label__abcat0011004        1"
      ]
     },
     "execution_count": 9,
     "metadata": {},
     "output_type": "execute_result"
    }
   ],
   "source": [
    "df_gblc.head()"
   ]
  },
  {
   "cell_type": "code",
   "execution_count": 10,
   "id": "05eea431",
   "metadata": {},
   "outputs": [],
   "source": [
    "df_gblcs = df_gblc.sort_values(['product'], ascending=False)"
   ]
  },
  {
   "cell_type": "code",
   "execution_count": 11,
   "id": "3481a689",
   "metadata": {},
   "outputs": [
    {
     "data": {
      "text/html": [
       "<div>\n",
       "<style scoped>\n",
       "    .dataframe tbody tr th:only-of-type {\n",
       "        vertical-align: middle;\n",
       "    }\n",
       "\n",
       "    .dataframe tbody tr th {\n",
       "        vertical-align: top;\n",
       "    }\n",
       "\n",
       "    .dataframe thead th {\n",
       "        text-align: right;\n",
       "    }\n",
       "</style>\n",
       "<table border=\"1\" class=\"dataframe\">\n",
       "  <thead>\n",
       "    <tr style=\"text-align: right;\">\n",
       "      <th></th>\n",
       "      <th>label</th>\n",
       "      <th>product</th>\n",
       "    </tr>\n",
       "  </thead>\n",
       "  <tbody>\n",
       "    <tr>\n",
       "      <th>21</th>\n",
       "      <td>__label__abcat0101001</td>\n",
       "      <td>2100</td>\n",
       "    </tr>\n",
       "    <tr>\n",
       "      <th>1065</th>\n",
       "      <td>__label__pcmcat180400050006</td>\n",
       "      <td>1810</td>\n",
       "    </tr>\n",
       "    <tr>\n",
       "      <th>212</th>\n",
       "      <td>__label__abcat0401004</td>\n",
       "      <td>1574</td>\n",
       "    </tr>\n",
       "    <tr>\n",
       "      <th>1717</th>\n",
       "      <td>__label__pcmcat247400050000</td>\n",
       "      <td>1491</td>\n",
       "    </tr>\n",
       "    <tr>\n",
       "      <th>667</th>\n",
       "      <td>__label__cat09000</td>\n",
       "      <td>1441</td>\n",
       "    </tr>\n",
       "  </tbody>\n",
       "</table>\n",
       "</div>"
      ],
      "text/plain": [
       "                            label  product\n",
       "21          __label__abcat0101001     2100\n",
       "1065  __label__pcmcat180400050006     1810\n",
       "212         __label__abcat0401004     1574\n",
       "1717  __label__pcmcat247400050000     1491\n",
       "667             __label__cat09000     1441"
      ]
     },
     "execution_count": 11,
     "metadata": {},
     "output_type": "execute_result"
    }
   ],
   "source": [
    "df_gblcs.head()"
   ]
  },
  {
   "cell_type": "code",
   "execution_count": 12,
   "id": "8573a822",
   "metadata": {},
   "outputs": [],
   "source": [
    "df_500 = df_gblcs[df_gblcs['product'] >= 500]"
   ]
  },
  {
   "cell_type": "code",
   "execution_count": 13,
   "id": "a4ef5aa5",
   "metadata": {},
   "outputs": [],
   "source": [
    "df_pruned = df[df['label'].isin(df_500['label'])]"
   ]
  },
  {
   "cell_type": "code",
   "execution_count": 14,
   "id": "c02e5107",
   "metadata": {},
   "outputs": [
    {
     "data": {
      "text/plain": [
       "28921"
      ]
     },
     "execution_count": 14,
     "metadata": {},
     "output_type": "execute_result"
    }
   ],
   "source": [
    "len(df_pruned)"
   ]
  },
  {
   "cell_type": "code",
   "execution_count": 15,
   "id": "ba32aa6b",
   "metadata": {},
   "outputs": [],
   "source": [
    "with open('/workspace/datasets/fasttext/pruned_labeled_products.txt', 'w') as f:\n",
    "    for row in df_pruned.iterrows():\n",
    "        f.write(\"{} {}\\n\".format(row[1]['label'], row[1]['product']))"
   ]
  },
  {
   "cell_type": "code",
   "execution_count": 16,
   "id": "ffa5711f",
   "metadata": {},
   "outputs": [
    {
     "name": "stdout",
     "output_type": "stream",
     "text": [
      "__label__pcmcat165900050033 Metra - Radio Installation Dash Kit for Most 1989-2000 Ford, Lincoln & Mercury Vehicles - Black\r\n",
      "\r\n",
      "__label__pcmcat165900050033 Metra - Radio Dash Multikit for Select GM Vehicles - Black\r\n",
      "\r\n",
      "__label__pcmcat165900050033 Best Buy - Mazda Multi In-Dash Installation Kit\r\n",
      "\r\n",
      "__label__abcat0101001 Dynex™ - 32\" Class / 720p / 60Hz / LCD HDTV\r\n",
      "\r\n",
      "__label__abcat0101001 Insignia™ - 32\" Class / 720p / 60Hz / LCD HDTV\r\n",
      "\r\n"
     ]
    }
   ],
   "source": [
    "!head /workspace/datasets/fasttext/pruned_labeled_products.txt"
   ]
  },
  {
   "cell_type": "code",
   "execution_count": null,
   "id": "13d6bd03",
   "metadata": {},
   "outputs": [],
   "source": []
  },
  {
   "cell_type": "code",
   "execution_count": null,
   "id": "4e796419",
   "metadata": {},
   "outputs": [],
   "source": []
  }
 ],
 "metadata": {
  "kernelspec": {
   "display_name": "Python 3 (ipykernel)",
   "language": "python",
   "name": "python3"
  },
  "language_info": {
   "codemirror_mode": {
    "name": "ipython",
    "version": 3
   },
   "file_extension": ".py",
   "mimetype": "text/x-python",
   "name": "python",
   "nbconvert_exporter": "python",
   "pygments_lexer": "ipython3",
   "version": "3.9.7"
  }
 },
 "nbformat": 4,
 "nbformat_minor": 5
}
